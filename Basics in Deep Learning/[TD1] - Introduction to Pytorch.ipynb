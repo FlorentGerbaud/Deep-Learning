{
  "cells": [
    {
      "cell_type": "markdown",
      "metadata": {
        "id": "view-in-github",
        "colab_type": "text"
      },
      "source": [
        "<a href=\"https://colab.research.google.com/github/FlorentGerbaud/Deep-Learning/blob/main/Basics%20in%20Deep%20Learning/%5BTD1%5D%20-%20Introduction%20to%20Pytorch.ipynb\" target=\"_parent\"><img src=\"https://colab.research.google.com/assets/colab-badge.svg\" alt=\"Open In Colab\"/></a>"
      ]
    },
    {
      "cell_type": "markdown",
      "metadata": {
        "id": "iogTCNRqJgcK"
      },
      "source": [
        "# Lab 1: Torch basics\n",
        "# The goal of this lab is to discover Pytorch, especially the Tensor concept.\n"
      ]
    },
    {
      "cell_type": "code",
      "metadata": {
        "id": "Pe1KgPFqgC9m",
        "colab": {
          "base_uri": "https://localhost:8080/",
          "height": 35
        },
        "outputId": "228af5c8-f900-4722-ae07-a75c898f9269",
        "ExecuteTime": {
          "end_time": "2024-10-17T16:41:08.413464Z",
          "start_time": "2024-10-17T16:41:08.409511Z"
        }
      },
      "source": [
        "torch.__version__"
      ],
      "outputs": [
        {
          "output_type": "execute_result",
          "data": {
            "text/plain": [
              "'2.4.1+cu121'"
            ],
            "application/vnd.google.colaboratory.intrinsic+json": {
              "type": "string"
            }
          },
          "metadata": {},
          "execution_count": 60
        }
      ],
      "execution_count": 60
    },
    {
      "cell_type": "code",
      "metadata": {
        "id": "Hh6cps5cgC9g",
        "ExecuteTime": {
          "end_time": "2024-10-17T16:41:14.686624Z",
          "start_time": "2024-10-17T16:41:14.681505Z"
        }
      },
      "source": [
        "import matplotlib.pyplot as plt\n",
        "%matplotlib inline\n",
        "import torch\n",
        "import numpy as np"
      ],
      "outputs": [],
      "execution_count": 61
    },
    {
      "cell_type": "markdown",
      "metadata": {
        "id": "lMn2UjdXgC9r"
      },
      "source": [
        "Largely inspired from the tutorial [What is PyTorch?](https://pytorch.org/tutorials/beginner/former_torchies/tensor_tutorial.html)\n",
        "\n",
        "Tensors are used to encode the signal to process, but also the internal states and parameters of models.\n",
        "\n",
        "Manipulating data through this constrained structure allows to use CPUs and GPUs at peak performance.\n",
        "\n"
      ]
    },
    {
      "cell_type": "markdown",
      "metadata": {
        "id": "loUAlh7dyVpN"
      },
      "source": [
        "## Tensors"
      ]
    },
    {
      "cell_type": "markdown",
      "metadata": {
        "id": "hlUFi857xt6Q"
      },
      "source": [
        "Construct a 3x5 matrix, uninitialized:"
      ]
    },
    {
      "cell_type": "code",
      "metadata": {
        "id": "2kLcNt8IgC9r",
        "colab": {
          "base_uri": "https://localhost:8080/"
        },
        "outputId": "af54988d-2e62-48c9-973b-58e39ec365ce",
        "ExecuteTime": {
          "end_time": "2024-10-17T16:45:43.216108Z",
          "start_time": "2024-10-17T16:45:43.212181Z"
        }
      },
      "source": [
        "# Set the default floating point dtype to float32\n",
        "torch.set_default_dtype(torch.float32)\n",
        "\n",
        "# Optional: Set the default device to 'cuda' if available, otherwise 'cpu'\n",
        "device = 'cuda' if torch.cuda.is_available() else 'cpu'\n",
        "torch.set_default_device(device)\n",
        "print(device)"
      ],
      "outputs": [
        {
          "output_type": "stream",
          "name": "stdout",
          "text": [
            "cuda\n"
          ]
        }
      ],
      "execution_count": 62
    },
    {
      "cell_type": "code",
      "execution_count": 63,
      "metadata": {
        "id": "RjUhHCJMgC9u",
        "colab": {
          "base_uri": "https://localhost:8080/"
        },
        "outputId": "8bdeb9e1-07f9-48f5-e123-63cfd89f3baa"
      },
      "outputs": [
        {
          "output_type": "stream",
          "name": "stdout",
          "text": [
            "torch.cuda.FloatTensor\n",
            "tensor([[1.0000, 1.0000, 1.0000, 0.2542, 0.2375],\n",
            "        [0.2892, 0.1935, 0.2799, 0.2194, 0.2743],\n",
            "        [0.2104, 0.2958, 0.4002, 0.3899, 0.2531]], device='cuda:0')\n"
          ]
        }
      ],
      "source": [
        "x = torch.empty(3,5)\n",
        "print(x.type())\n",
        "print(x)"
      ]
    },
    {
      "cell_type": "code",
      "execution_count": 64,
      "metadata": {
        "id": "MnRsrLh5gC9w",
        "colab": {
          "base_uri": "https://localhost:8080/"
        },
        "outputId": "009615b3-85ac-402f-94f7-690fdadbea25"
      },
      "outputs": [
        {
          "output_type": "stream",
          "name": "stdout",
          "text": [
            "tensor([[-0.8372,  0.3339, -0.0144, -0.7639, -0.7986],\n",
            "        [-0.9017,  1.6277, -2.4620, -0.1450,  0.2500],\n",
            "        [-0.7646,  0.2476,  0.7073, -1.5636, -0.5248]], device='cuda:0')\n"
          ]
        }
      ],
      "source": [
        "x = torch.randn(3,5)\n",
        "print(x)"
      ]
    },
    {
      "cell_type": "code",
      "execution_count": 65,
      "metadata": {
        "id": "lfgpO7kUgC9z",
        "colab": {
          "base_uri": "https://localhost:8080/"
        },
        "outputId": "26bd77f5-0442-44db-cd23-1534a7a0bea8"
      },
      "outputs": [
        {
          "output_type": "stream",
          "name": "stdout",
          "text": [
            "torch.Size([3, 5])\n"
          ]
        }
      ],
      "source": [
        "print(x.size())"
      ]
    },
    {
      "cell_type": "markdown",
      "metadata": {
        "id": "NNLzvVKigC92"
      },
      "source": [
        "torch.Size is in fact a [tuple](https://docs.python.org/3/tutorial/datastructures.html#tuples-and-sequences), so it supports the same operations."
      ]
    },
    {
      "cell_type": "code",
      "execution_count": 66,
      "metadata": {
        "id": "W-o3sFH3gC92",
        "colab": {
          "base_uri": "https://localhost:8080/"
        },
        "outputId": "f2b96edc-78c3-447a-b253-5f708b9e14f2"
      },
      "outputs": [
        {
          "output_type": "execute_result",
          "data": {
            "text/plain": [
              "5"
            ]
          },
          "metadata": {},
          "execution_count": 66
        }
      ],
      "source": [
        "x.size()[1]"
      ]
    },
    {
      "cell_type": "code",
      "execution_count": 67,
      "metadata": {
        "id": "LkQAasgtgC95",
        "colab": {
          "base_uri": "https://localhost:8080/"
        },
        "outputId": "4a5cb152-b77e-42c7-8df7-9a07e8c4ad92"
      },
      "outputs": [
        {
          "output_type": "execute_result",
          "data": {
            "text/plain": [
              "True"
            ]
          },
          "metadata": {},
          "execution_count": 67
        }
      ],
      "source": [
        "x.size() == (3,5)"
      ]
    },
    {
      "cell_type": "markdown",
      "metadata": {
        "id": "GDufwT0Kstxv"
      },
      "source": [
        "Importance of the brackets when defining a tensor"
      ]
    },
    {
      "cell_type": "code",
      "execution_count": 68,
      "metadata": {
        "id": "wa9IPaaqsaPg",
        "colab": {
          "base_uri": "https://localhost:8080/"
        },
        "outputId": "9a0b25e2-9a14-4a57-e63a-be3174e1266d"
      },
      "outputs": [
        {
          "output_type": "stream",
          "name": "stdout",
          "text": [
            "<class 'torch.Tensor'>\n",
            "torch.float32\n",
            "torch.Size([1])\n",
            "<class 'torch.Tensor'>\n",
            "torch.float32\n",
            "torch.Size([])\n"
          ]
        }
      ],
      "source": [
        "a = torch.tensor([2.0])\n",
        "print(type(a))\n",
        "print(a.dtype)\n",
        "print(a.size())\n",
        "\n",
        "b = torch.tensor(2.0)\n",
        "print(type(b))\n",
        "print(b.dtype)\n",
        "print(b.size())"
      ]
    },
    {
      "cell_type": "markdown",
      "metadata": {
        "id": "XeAg1TcMhyf4"
      },
      "source": [
        "Select some columns"
      ]
    },
    {
      "cell_type": "code",
      "execution_count": 69,
      "metadata": {
        "id": "DZaC-fXlgY6G",
        "colab": {
          "base_uri": "https://localhost:8080/"
        },
        "outputId": "b24f431b-3d7c-4575-e727-c1ae7764c1cd"
      },
      "outputs": [
        {
          "output_type": "stream",
          "name": "stdout",
          "text": [
            "tensor([False, False, False, False, False], device='cuda:0')\n",
            "tensor([False,  True, False, False,  True], device='cuda:0')\n",
            "tensor([[ 0.3339, -0.7986],\n",
            "        [ 1.6277,  0.2500],\n",
            "        [ 0.2476, -0.5248]], device='cuda:0')\n"
          ]
        }
      ],
      "source": [
        "cols = torch.zeros(5, dtype=torch.bool)\n",
        "print(cols)\n",
        "cols[1] = True\n",
        "cols[4] = True\n",
        "print(cols)\n",
        "c = x[:, cols]  # selects all rows, 2nd column and  5th column from x\n",
        "print(c)"
      ]
    },
    {
      "cell_type": "markdown",
      "metadata": {
        "id": "t9v3syrRf-13"
      },
      "source": [
        "All operations on the tensor that operate in-place on it will have an _ postfix."
      ]
    },
    {
      "cell_type": "code",
      "execution_count": 70,
      "metadata": {
        "id": "zr3PP5oVf1SV",
        "colab": {
          "base_uri": "https://localhost:8080/"
        },
        "outputId": "23fdbb90-8338-4398-ec79-5ad9c060b956"
      },
      "outputs": [
        {
          "output_type": "stream",
          "name": "stdout",
          "text": [
            "tensor([[3.5000, 3.5000, 3.5000, 3.5000, 3.5000],\n",
            "        [3.5000, 3.5000, 3.5000, 3.5000, 3.5000],\n",
            "        [3.5000, 3.5000, 3.5000, 3.5000, 3.5000]], device='cuda:0')\n"
          ]
        }
      ],
      "source": [
        "# x will be filled with the value 3.5\n",
        "x.fill_(3.5)\n",
        "print(x)"
      ]
    },
    {
      "cell_type": "markdown",
      "metadata": {
        "id": "SXPtlUXsgC96"
      },
      "source": [
        "## Bridge to numpy"
      ]
    },
    {
      "cell_type": "code",
      "execution_count": 71,
      "metadata": {
        "id": "61srdUzCgC97",
        "colab": {
          "base_uri": "https://localhost:8080/"
        },
        "outputId": "def0fab3-a2f2-47d8-b6ba-99f94d0fc774"
      },
      "outputs": [
        {
          "output_type": "stream",
          "name": "stdout",
          "text": [
            "[[3.5 3.5 3.5 3.5 3.5]\n",
            " [3.5 3.5 3.5 3.5 3.5]\n",
            " [3.5 3.5 3.5 3.5 3.5]]\n"
          ]
        }
      ],
      "source": [
        "y = x.cpu().numpy()\n",
        "print(y)"
      ]
    },
    {
      "cell_type": "code",
      "execution_count": 72,
      "metadata": {
        "id": "tFv5BzYsgC99",
        "colab": {
          "base_uri": "https://localhost:8080/"
        },
        "outputId": "5d4c5f1f-3c76-4665-acf5-662553f13358"
      },
      "outputs": [
        {
          "output_type": "stream",
          "name": "stdout",
          "text": [
            "tensor([1., 1., 1., 1., 1.], dtype=torch.float64)\n"
          ]
        }
      ],
      "source": [
        "a = np.ones(5)\n",
        "b = torch.from_numpy(a)\n",
        "print(b)\n"
      ]
    },
    {
      "cell_type": "code",
      "execution_count": 73,
      "metadata": {
        "id": "lfpk2tfpgC9-",
        "colab": {
          "base_uri": "https://localhost:8080/"
        },
        "outputId": "b0a3e447-f2c8-47d8-def3-4e3345a9b06c"
      },
      "outputs": [
        {
          "output_type": "stream",
          "name": "stdout",
          "text": [
            "tensor([[-1.3878, -0.4709,  0.0207, -0.6012, -1.1382],\n",
            "        [-1.9431,  1.3687,  0.7882, -0.8133, -0.1550],\n",
            "        [ 1.6016, -1.1238, -0.9374, -0.7595, -0.8940]], device='cuda:0')\n",
            "tensor([1, 1, 1, 1, 1])\n"
          ]
        }
      ],
      "source": [
        "xr = torch.randn(3, 5)\n",
        "a = np.ones(5).astype(int)\n",
        "b = torch.from_numpy(a)\n",
        "print(xr)\n",
        "print(b)"
      ]
    },
    {
      "cell_type": "markdown",
      "metadata": {
        "id": "C6sKTTlZ0RmP"
      },
      "source": [
        "### Question: print the type of the content (data) of variables a, b and xr"
      ]
    },
    {
      "cell_type": "code",
      "execution_count": 74,
      "metadata": {
        "id": "k07dBWLRxARt",
        "colab": {
          "base_uri": "https://localhost:8080/"
        },
        "outputId": "05288e91-ad65-4a03-9c2d-7348d8c6edb7"
      },
      "outputs": [
        {
          "output_type": "stream",
          "name": "stdout",
          "text": [
            "int64\n",
            "torch.int64\n",
            "torch.float32\n"
          ]
        }
      ],
      "source": [
        "# Code here\n",
        "print(a.dtype)\n",
        "print(b.dtype)\n",
        "print(xr.dtype)"
      ]
    },
    {
      "cell_type": "markdown",
      "metadata": {
        "id": "7fwWdAYjUuiN"
      },
      "source": [
        "## Operations\n",
        "\n",
        "There are multiple syntaxes for operations. In the following\n",
        "example, we will take a look at the addition operation.\n",
        "\n",
        "Addition: syntax 1"
      ]
    },
    {
      "cell_type": "code",
      "execution_count": 75,
      "metadata": {
        "id": "4iASmmTAUxG0",
        "colab": {
          "base_uri": "https://localhost:8080/"
        },
        "outputId": "5943d1a9-32d5-475b-c455-e263deee17af"
      },
      "outputs": [
        {
          "output_type": "stream",
          "name": "stdout",
          "text": [
            "tensor([[1.2198, 0.4963, 0.6403],\n",
            "        [0.9943, 1.4998, 0.3924],\n",
            "        [0.5825, 0.6561, 1.6605],\n",
            "        [1.0514, 1.0769, 1.1653],\n",
            "        [0.2856, 0.8833, 0.6809]], device='cuda:0')\n"
          ]
        }
      ],
      "source": [
        "x = torch.rand(5, 3)\n",
        "y = torch.rand(5, 3)\n",
        "print(x + y)"
      ]
    },
    {
      "cell_type": "markdown",
      "metadata": {
        "id": "H5NxjdPhVQP8"
      },
      "source": [
        "Addition: syntax 2"
      ]
    },
    {
      "cell_type": "code",
      "execution_count": 76,
      "metadata": {
        "id": "GwCo8DOcVRHq",
        "colab": {
          "base_uri": "https://localhost:8080/"
        },
        "outputId": "14dc7d4f-eff1-4e68-d3bd-5a45c3551dfc"
      },
      "outputs": [
        {
          "output_type": "stream",
          "name": "stdout",
          "text": [
            "tensor([[1.2198, 0.4963, 0.6403],\n",
            "        [0.9943, 1.4998, 0.3924],\n",
            "        [0.5825, 0.6561, 1.6605],\n",
            "        [1.0514, 1.0769, 1.1653],\n",
            "        [0.2856, 0.8833, 0.6809]], device='cuda:0')\n"
          ]
        }
      ],
      "source": [
        "print(torch.add(x, y))"
      ]
    },
    {
      "cell_type": "markdown",
      "metadata": {
        "id": "wNuL3H61VZvS"
      },
      "source": [
        "Addition: providing an output tensor as argument"
      ]
    },
    {
      "cell_type": "code",
      "execution_count": 77,
      "metadata": {
        "id": "hX1ffSunVail",
        "colab": {
          "base_uri": "https://localhost:8080/"
        },
        "outputId": "44936732-aef1-41c7-a878-6c7f7d86bf0a"
      },
      "outputs": [
        {
          "output_type": "stream",
          "name": "stdout",
          "text": [
            "tensor([[1.2198, 0.4963, 0.6403],\n",
            "        [0.9943, 1.4998, 0.3924],\n",
            "        [0.5825, 0.6561, 1.6605],\n",
            "        [1.0514, 1.0769, 1.1653],\n",
            "        [0.2856, 0.8833, 0.6809]], device='cuda:0')\n"
          ]
        }
      ],
      "source": [
        "result = torch.empty(5, 3)\n",
        "torch.add(x, y, out=result)\n",
        "print(result)"
      ]
    },
    {
      "cell_type": "markdown",
      "metadata": {
        "id": "-VK0_f0rVejB"
      },
      "source": [
        "Addition: in-place"
      ]
    },
    {
      "cell_type": "code",
      "execution_count": 78,
      "metadata": {
        "id": "rj0GKMgSVlGV",
        "colab": {
          "base_uri": "https://localhost:8080/"
        },
        "outputId": "927febb8-1fdc-4a9e-d5f5-b63e8c0f2723"
      },
      "outputs": [
        {
          "output_type": "stream",
          "name": "stdout",
          "text": [
            "tensor([[1.2198, 0.4963, 0.6403],\n",
            "        [0.9943, 1.4998, 0.3924],\n",
            "        [0.5825, 0.6561, 1.6605],\n",
            "        [1.0514, 1.0769, 1.1653],\n",
            "        [0.2856, 0.8833, 0.6809]], device='cuda:0')\n"
          ]
        }
      ],
      "source": [
        "# adds x to y\n",
        "y.add_(x)\n",
        "print(y)"
      ]
    },
    {
      "cell_type": "markdown",
      "metadata": {
        "id": "EgNBadgeVscS"
      },
      "source": [
        "**Note:** Any operation that mutates a tensor in-place is post-fixed with an ``_``.\n",
        "    For example: ``x.copy_(y)``, ``x.t_()``, will change ``x``.\n",
        "\n"
      ]
    },
    {
      "cell_type": "markdown",
      "metadata": {
        "id": "kOPtMoOkgC-G"
      },
      "source": [
        "Any operation that mutates a tensor in-place is post-fixed with an ```_```\n",
        "\n",
        "For example: ```x.copy_(y)```, ```x.t_()```, will change ```x```."
      ]
    },
    {
      "cell_type": "code",
      "execution_count": 79,
      "metadata": {
        "id": "hrOV0mQIgC-G",
        "colab": {
          "base_uri": "https://localhost:8080/"
        },
        "outputId": "274886a4-a50a-4316-b49b-aafdd32e070f"
      },
      "outputs": [
        {
          "output_type": "stream",
          "name": "stdout",
          "text": [
            "tensor([[0.2657, 0.5971, 0.0687, 0.7975, 0.1960],\n",
            "        [0.0510, 0.8024, 0.0974, 0.7261, 0.3186],\n",
            "        [0.4122, 0.0084, 0.9315, 0.4859, 0.3541]], device='cuda:0')\n"
          ]
        }
      ],
      "source": [
        "print(x.t())"
      ]
    },
    {
      "cell_type": "code",
      "execution_count": 80,
      "metadata": {
        "id": "LfNnD4vSgC-H",
        "colab": {
          "base_uri": "https://localhost:8080/"
        },
        "outputId": "41f45bba-8a50-4047-c4e3-6f0bf6c27d19"
      },
      "outputs": [
        {
          "output_type": "stream",
          "name": "stdout",
          "text": [
            "tensor([[0.2657, 0.0510, 0.4122],\n",
            "        [0.5971, 0.8024, 0.0084],\n",
            "        [0.0687, 0.0974, 0.9315],\n",
            "        [0.7975, 0.7261, 0.4859],\n",
            "        [0.1960, 0.3186, 0.3541]], device='cuda:0')\n"
          ]
        }
      ],
      "source": [
        "print(x)"
      ]
    },
    {
      "cell_type": "code",
      "execution_count": 81,
      "metadata": {
        "id": "5YdHeI8lgC-I",
        "colab": {
          "base_uri": "https://localhost:8080/"
        },
        "outputId": "86a6f9ac-9550-4008-b56f-adbe4ce2ff94"
      },
      "outputs": [
        {
          "output_type": "stream",
          "name": "stdout",
          "text": [
            "tensor([[0.2657, 0.5971, 0.0687, 0.7975, 0.1960],\n",
            "        [0.0510, 0.8024, 0.0974, 0.7261, 0.3186],\n",
            "        [0.4122, 0.0084, 0.9315, 0.4859, 0.3541]], device='cuda:0')\n"
          ]
        }
      ],
      "source": [
        "x.t_()\n",
        "print(x)"
      ]
    },
    {
      "cell_type": "markdown",
      "metadata": {
        "id": "UfxHIL-mWyZl"
      },
      "source": [
        "You can use standard NumPy-like indexing with all bells and whistles!"
      ]
    },
    {
      "cell_type": "code",
      "execution_count": 82,
      "metadata": {
        "id": "Cz4M97B2Wtyu",
        "colab": {
          "base_uri": "https://localhost:8080/"
        },
        "outputId": "6b61d776-2052-4993-8584-53f1bf3a7042"
      },
      "outputs": [
        {
          "output_type": "stream",
          "name": "stdout",
          "text": [
            "tensor([0.5971, 0.8024, 0.0084], device='cuda:0')\n"
          ]
        }
      ],
      "source": [
        "print(x[:, 1])"
      ]
    },
    {
      "cell_type": "markdown",
      "metadata": {
        "id": "M6tsVH8zW8yB"
      },
      "source": [
        "Resizing (very useful): If you want to resize/reshape tensor, you can use ``torch.view``:"
      ]
    },
    {
      "cell_type": "code",
      "execution_count": 83,
      "metadata": {
        "id": "k0qjaFPDW_3I",
        "colab": {
          "base_uri": "https://localhost:8080/"
        },
        "outputId": "e27c11c5-22b7-4a17-92fa-dafb3c3d157c"
      },
      "outputs": [
        {
          "output_type": "stream",
          "name": "stdout",
          "text": [
            "tensor([[ 1.0560, -0.6999,  0.1132, -1.5523],\n",
            "        [ 0.4813, -0.8644, -0.8133,  1.1464],\n",
            "        [ 0.9436, -1.4906,  0.7158, -0.5127],\n",
            "        [-0.7092, -0.7007,  1.5932, -0.0098]], device='cuda:0')\n",
            "tensor([ 1.0560, -0.6999,  0.1132, -1.5523,  0.4813, -0.8644, -0.8133,  1.1464,\n",
            "         0.9436, -1.4906,  0.7158, -0.5127, -0.7092, -0.7007,  1.5932, -0.0098],\n",
            "       device='cuda:0')\n",
            "tensor([[ 1.0560, -0.6999,  0.1132, -1.5523,  0.4813, -0.8644, -0.8133,  1.1464],\n",
            "        [ 0.9436, -1.4906,  0.7158, -0.5127, -0.7092, -0.7007,  1.5932, -0.0098]],\n",
            "       device='cuda:0')\n",
            "torch.Size([4, 4]) torch.Size([16]) torch.Size([2, 8])\n"
          ]
        }
      ],
      "source": [
        "x = torch.randn(4, 4)\n",
        "print(x)\n",
        "y = x.view(16)\n",
        "print(y)\n",
        "z = x.view(-1, 8)  # the size -1 is inferred from other dimensions\n",
        "print(z)\n",
        "print(x.size(), y.size(), z.size())"
      ]
    },
    {
      "cell_type": "markdown",
      "metadata": {
        "id": "fP8sTTCgXRak"
      },
      "source": [
        "If you have a one element tensor, use ``.item()`` to get the value as a\n",
        "Python number"
      ]
    },
    {
      "cell_type": "code",
      "execution_count": 84,
      "metadata": {
        "id": "zaG9x6SHXSPw",
        "colab": {
          "base_uri": "https://localhost:8080/"
        },
        "outputId": "734649c8-847c-4211-ea93-61f29378ab62"
      },
      "outputs": [
        {
          "output_type": "stream",
          "name": "stdout",
          "text": [
            "tensor([-0.8980], device='cuda:0')\n",
            "-0.8979537487030029\n"
          ]
        }
      ],
      "source": [
        "x = torch.randn(1)\n",
        "print(x)\n",
        "print(x.item())"
      ]
    },
    {
      "cell_type": "markdown",
      "metadata": {
        "id": "mqCvPrp-XmZQ"
      },
      "source": [
        "**Read later:**\n",
        "\n",
        "\n",
        "  100+ Tensor operations, including transposing, indexing, slicing,\n",
        "  mathematical operations, linear algebra, random numbers, etc.,\n",
        "  are described\n",
        "  [here](https://pytorch.org/docs/torch)."
      ]
    },
    {
      "cell_type": "markdown",
      "metadata": {
        "id": "8Jk-JGYpeCNz"
      },
      "source": [
        "## 3D Tensors"
      ]
    },
    {
      "cell_type": "markdown",
      "metadata": {
        "id": "RTGbU2E-eLWF"
      },
      "source": [
        "### Question: What is the size of the following tensor?"
      ]
    },
    {
      "cell_type": "code",
      "execution_count": 85,
      "metadata": {
        "id": "d-Dg4nyOeD4f",
        "colab": {
          "base_uri": "https://localhost:8080/"
        },
        "outputId": "7b2d2a12-d8ba-4477-ad8e-45302e7da692"
      },
      "outputs": [
        {
          "output_type": "stream",
          "name": "stdout",
          "text": [
            "tensor([[[1, 2, 3],\n",
            "         [4, 5, 6]],\n",
            "\n",
            "        [[1, 2, 3],\n",
            "         [4, 5, 6]],\n",
            "\n",
            "        [[1, 2, 3],\n",
            "         [4, 5, 6]]], device='cuda:0')\n"
          ]
        }
      ],
      "source": [
        "y = torch.tensor([\n",
        "     [\n",
        "       [1, 2, 3],\n",
        "       [4, 5, 6]\n",
        "     ],\n",
        "     [\n",
        "       [1, 2, 3],\n",
        "       [4, 5, 6]\n",
        "     ],\n",
        "     [\n",
        "       [1, 2, 3],\n",
        "       [4, 5, 6]\n",
        "     ]\n",
        "   ])\n",
        "print(y)"
      ]
    },
    {
      "cell_type": "code",
      "execution_count": 86,
      "metadata": {
        "id": "2gBU82BTe0_y",
        "colab": {
          "base_uri": "https://localhost:8080/"
        },
        "outputId": "49db37f7-a951-4920-e70b-45a96f7e64b7"
      },
      "outputs": [
        {
          "output_type": "stream",
          "name": "stdout",
          "text": [
            "torch.Size([3, 2, 3])\n"
          ]
        }
      ],
      "source": [
        "# Code here\n",
        "print(y.size())"
      ]
    },
    {
      "cell_type": "markdown",
      "metadata": {
        "id": "dOUGbVEUe9DC"
      },
      "source": [
        "### Question: Explain the result of the next cell"
      ]
    },
    {
      "cell_type": "markdown",
      "source": [
        "## Explanation of `torch.sum()`\n",
        "\n",
        "The `torch.sum()` function in PyTorch is used to compute the sum of elements in a tensor along a specified dimension. When called, it takes a tensor and a `dim` argument that determines the dimension over which the summation will occur. For instance, if you have a 3D tensor representing multiple matrices, specifying `dim=0` will sum the elements across different matrices, while `dim=1` will sum across the rows of each matrix, and `dim=2` will sum across the columns. This ability to reduce dimensions allows for efficient aggregation operations on multidimensional data. As a result, `torch.sum()` is particularly useful for data analysis, statistical calculations, and training machine learning models, as it facilitates the manipulation and interpretation of tensors.\n"
      ],
      "metadata": {
        "id": "LBl1pa7QhCy-"
      }
    },
    {
      "cell_type": "code",
      "execution_count": 87,
      "metadata": {
        "id": "14O04VMTe9eg",
        "colab": {
          "base_uri": "https://localhost:8080/"
        },
        "outputId": "0363ea2b-aec7-405d-b5d5-f107aa935fbb"
      },
      "outputs": [
        {
          "output_type": "execute_result",
          "data": {
            "text/plain": [
              "tensor([[ 6, 15],\n",
              "        [ 6, 15],\n",
              "        [ 6, 15]], device='cuda:0')"
            ]
          },
          "metadata": {},
          "execution_count": 87
        }
      ],
      "source": [
        "torch.sum(y, dim=2)"
      ]
    },
    {
      "cell_type": "markdown",
      "metadata": {
        "id": "Ev68h5j1ZUNH"
      },
      "source": [
        "## Broadcasting semantics\n",
        "\n",
        "In short, if a PyTorch operation supports broadcast, then its Tensor arguments can be automatically expanded to be of equal sizes (without making copies of the data).\n",
        "\n",
        "Two tensors are “broadcastable” if the following rules hold:\n",
        "\n",
        "*   Each tensor has at least one dimension.\n",
        "*   When iterating over the dimension sizes, **starting at the trailing dimension**, the dimension sizes must either be equal, one of them is 1, or one of them does not exist.\n",
        "\n",
        "If two tensors x, y are “broadcastable”, the resulting tensor size is calculated as follows:\n",
        "* If the number of dimensions of x and y are not equal, prepend 1 to the dimensions of the tensor with fewer dimensions to make them equal length.\n",
        "* Then, for each dimension size, the resulting dimension size is the max of the sizes of x and y along that dimension.\n",
        "\n",
        "More details [here](https://pytorch.org/docs/stable/notes/broadcasting.html)\n",
        "\n"
      ]
    },
    {
      "cell_type": "code",
      "execution_count": 88,
      "metadata": {
        "id": "P3f9hXLxZXQa",
        "colab": {
          "base_uri": "https://localhost:8080/"
        },
        "outputId": "233f9b32-3b25-42c0-bfb7-27dfef925ea0"
      },
      "outputs": [
        {
          "output_type": "stream",
          "name": "stdout",
          "text": [
            "torch.Size([5, 4, 4, 3])\n"
          ]
        }
      ],
      "source": [
        "# can line up trailing dimensions to make reading easier\n",
        "x=torch.empty(5,1,4,1)\n",
        "y=torch.empty(  4,1,3)\n",
        "print((x+y).size())\n"
      ]
    },
    {
      "cell_type": "code",
      "execution_count": 89,
      "metadata": {
        "id": "LsYo7aBqaJ5F",
        "colab": {
          "base_uri": "https://localhost:8080/"
        },
        "outputId": "a85e3a0a-a56f-4e9e-dc7f-900f62b17297"
      },
      "outputs": [
        {
          "output_type": "stream",
          "name": "stdout",
          "text": [
            "torch.Size([3, 1, 7])\n",
            "torch.Size([3, 1, 7])\n"
          ]
        }
      ],
      "source": [
        "# but not necessary:\n",
        "x=torch.empty(1)\n",
        "y=torch.empty(3,1,7)\n",
        "print(y.size())\n",
        "print((x+y).size())\n",
        "\n"
      ]
    },
    {
      "cell_type": "code",
      "source": [
        "t1=torch.tensor([\n",
        "     [\n",
        "       [1, 2, 3],\n",
        "       [4, 5, 6]\n",
        "     ],\n",
        "     [\n",
        "       [1, 2, 3],\n",
        "       [4, 5, 6]\n",
        "     ],\n",
        "     [\n",
        "       [1, 2, 3],\n",
        "       [4, 5, 6]\n",
        "     ]\n",
        "   ])\n",
        "print(t1.size())\n",
        "t2=torch.tensor([1.0])\n",
        "print(t2.size())\n",
        "T=t1+t2\n",
        "print(T)\n",
        "print(T.size())"
      ],
      "metadata": {
        "colab": {
          "base_uri": "https://localhost:8080/"
        },
        "id": "mfFzi8JbiPSs",
        "outputId": "8f9d196a-1317-49f8-91aa-402c312a2c03"
      },
      "execution_count": 90,
      "outputs": [
        {
          "output_type": "stream",
          "name": "stdout",
          "text": [
            "torch.Size([3, 2, 3])\n",
            "torch.Size([1])\n",
            "tensor([[[2., 3., 4.],\n",
            "         [5., 6., 7.]],\n",
            "\n",
            "        [[2., 3., 4.],\n",
            "         [5., 6., 7.]],\n",
            "\n",
            "        [[2., 3., 4.],\n",
            "         [5., 6., 7.]]], device='cuda:0')\n",
            "torch.Size([3, 2, 3])\n"
          ]
        }
      ]
    },
    {
      "cell_type": "markdown",
      "metadata": {
        "id": "0n_Y_hY6fxeL"
      },
      "source": [
        "### Question: The following command does not work. Why?\n",
        "\n"
      ]
    },
    {
      "cell_type": "markdown",
      "source": [
        "In PyTorch, the line `print((x + y).size())` fails because the tensors `x` and `y` cannot be broadcast together due to incompatible dimensions. Tensor `x` has a shape of `(5, 2, 4, 1)`, while tensor `y` has a shape of `(3, 1, 1)`. When attempting to broadcast, the dimensions are compared from the last dimension to the first. The first dimensions (5 and 3) do not match, preventing broadcasting. Therefore, PyTorch raises an error when trying to perform the addition since the shapes are not compatible for broadcasting.\n"
      ],
      "metadata": {
        "id": "agHSm6Sok2OJ"
      }
    },
    {
      "cell_type": "code",
      "execution_count": 91,
      "metadata": {
        "id": "Vq3SqanjaO6U",
        "colab": {
          "base_uri": "https://localhost:8080/",
          "height": 297
        },
        "outputId": "262f52d7-9841-4731-bac3-1c278b17c3d9"
      },
      "outputs": [
        {
          "output_type": "error",
          "ename": "RuntimeError",
          "evalue": "The size of tensor a (2) must match the size of tensor b (3) at non-singleton dimension 1",
          "traceback": [
            "\u001b[0;31m---------------------------------------------------------------------------\u001b[0m",
            "\u001b[0;31mRuntimeError\u001b[0m                              Traceback (most recent call last)",
            "\u001b[0;32m<ipython-input-91-b8d3fcc0b74d>\u001b[0m in \u001b[0;36m<cell line: 3>\u001b[0;34m()\u001b[0m\n\u001b[1;32m      1\u001b[0m \u001b[0mx\u001b[0m\u001b[0;34m=\u001b[0m\u001b[0mtorch\u001b[0m\u001b[0;34m.\u001b[0m\u001b[0mempty\u001b[0m\u001b[0;34m(\u001b[0m\u001b[0;36m5\u001b[0m\u001b[0;34m,\u001b[0m\u001b[0;36m2\u001b[0m\u001b[0;34m,\u001b[0m\u001b[0;36m4\u001b[0m\u001b[0;34m,\u001b[0m\u001b[0;36m1\u001b[0m\u001b[0;34m)\u001b[0m\u001b[0;34m\u001b[0m\u001b[0;34m\u001b[0m\u001b[0m\n\u001b[1;32m      2\u001b[0m \u001b[0my\u001b[0m\u001b[0;34m=\u001b[0m\u001b[0mtorch\u001b[0m\u001b[0;34m.\u001b[0m\u001b[0mempty\u001b[0m\u001b[0;34m(\u001b[0m  \u001b[0;36m3\u001b[0m\u001b[0;34m,\u001b[0m\u001b[0;36m1\u001b[0m\u001b[0;34m,\u001b[0m\u001b[0;36m1\u001b[0m\u001b[0;34m)\u001b[0m\u001b[0;34m\u001b[0m\u001b[0;34m\u001b[0m\u001b[0m\n\u001b[0;32m----> 3\u001b[0;31m \u001b[0mprint\u001b[0m\u001b[0;34m(\u001b[0m\u001b[0;34m(\u001b[0m\u001b[0mx\u001b[0m\u001b[0;34m+\u001b[0m\u001b[0my\u001b[0m\u001b[0;34m)\u001b[0m\u001b[0;34m.\u001b[0m\u001b[0msize\u001b[0m\u001b[0;34m(\u001b[0m\u001b[0;34m)\u001b[0m\u001b[0;34m)\u001b[0m\u001b[0;34m\u001b[0m\u001b[0;34m\u001b[0m\u001b[0m\n\u001b[0m",
            "\u001b[0;32m/usr/local/lib/python3.10/dist-packages/torch/utils/_device.py\u001b[0m in \u001b[0;36m__torch_function__\u001b[0;34m(self, func, types, args, kwargs)\u001b[0m\n\u001b[1;32m     77\u001b[0m         \u001b[0;32mif\u001b[0m \u001b[0mfunc\u001b[0m \u001b[0;32min\u001b[0m \u001b[0m_device_constructors\u001b[0m\u001b[0;34m(\u001b[0m\u001b[0;34m)\u001b[0m \u001b[0;32mand\u001b[0m \u001b[0mkwargs\u001b[0m\u001b[0;34m.\u001b[0m\u001b[0mget\u001b[0m\u001b[0;34m(\u001b[0m\u001b[0;34m'device'\u001b[0m\u001b[0;34m)\u001b[0m \u001b[0;32mis\u001b[0m \u001b[0;32mNone\u001b[0m\u001b[0;34m:\u001b[0m\u001b[0;34m\u001b[0m\u001b[0;34m\u001b[0m\u001b[0m\n\u001b[1;32m     78\u001b[0m             \u001b[0mkwargs\u001b[0m\u001b[0;34m[\u001b[0m\u001b[0;34m'device'\u001b[0m\u001b[0;34m]\u001b[0m \u001b[0;34m=\u001b[0m \u001b[0mself\u001b[0m\u001b[0;34m.\u001b[0m\u001b[0mdevice\u001b[0m\u001b[0;34m\u001b[0m\u001b[0;34m\u001b[0m\u001b[0m\n\u001b[0;32m---> 79\u001b[0;31m         \u001b[0;32mreturn\u001b[0m \u001b[0mfunc\u001b[0m\u001b[0;34m(\u001b[0m\u001b[0;34m*\u001b[0m\u001b[0margs\u001b[0m\u001b[0;34m,\u001b[0m \u001b[0;34m**\u001b[0m\u001b[0mkwargs\u001b[0m\u001b[0;34m)\u001b[0m\u001b[0;34m\u001b[0m\u001b[0;34m\u001b[0m\u001b[0m\n\u001b[0m\u001b[1;32m     80\u001b[0m \u001b[0;34m\u001b[0m\u001b[0m\n\u001b[1;32m     81\u001b[0m \u001b[0;31m# NB: This is directly called from C++ in torch/csrc/Device.cpp\u001b[0m\u001b[0;34m\u001b[0m\u001b[0;34m\u001b[0m\u001b[0m\n",
            "\u001b[0;31mRuntimeError\u001b[0m: The size of tensor a (2) must match the size of tensor b (3) at non-singleton dimension 1"
          ]
        }
      ],
      "source": [
        "x=torch.empty(5,2,4,1)\n",
        "y=torch.empty(  3,1,1)\n",
        "print((x+y).size())\n"
      ]
    },
    {
      "cell_type": "code",
      "execution_count": 92,
      "metadata": {
        "id": "ha4-WRJ0g4l9",
        "colab": {
          "base_uri": "https://localhost:8080/"
        },
        "outputId": "57b307ea-862a-43db-dbcc-d6b34bdd090a"
      },
      "outputs": [
        {
          "output_type": "stream",
          "name": "stdout",
          "text": [
            "tensor([[[3., 3., 3., 3.],\n",
            "         [3., 3., 3., 3.]],\n",
            "\n",
            "        [[3., 3., 3., 3.],\n",
            "         [3., 3., 3., 3.]],\n",
            "\n",
            "        [[3., 3., 3., 3.],\n",
            "         [3., 3., 3., 3.]]], device='cuda:0')\n"
          ]
        }
      ],
      "source": [
        "x=2*torch.ones(  2,4)\n",
        "y=torch.ones(3,2,4)\n",
        "print(x+y)"
      ]
    },
    {
      "cell_type": "markdown",
      "metadata": {
        "id": "Afol8pk8VPUn"
      },
      "source": [
        "### Question: What is the diffence between \"x = xr\" and \"x = xr.clone()\"?"
      ]
    },
    {
      "cell_type": "code",
      "execution_count": 93,
      "metadata": {
        "id": "ROIvJcOngC-E",
        "colab": {
          "base_uri": "https://localhost:8080/"
        },
        "outputId": "33452af7-bcba-4270-dd79-e352e219c083"
      },
      "outputs": [
        {
          "output_type": "stream",
          "name": "stdout",
          "text": [
            "tensor([[0., 0., 0., 0., 0.],\n",
            "        [0., 0., 0., 0., 0.],\n",
            "        [0., 0., 0., 0., 0.]], device='cuda:0')\n",
            "tensor([[-1.3878, -0.4709,  0.0207, -0.6012, -1.1382],\n",
            "        [-1.9431,  1.3687,  0.7882, -0.8133, -0.1550],\n",
            "        [ 1.6016, -1.1238, -0.9374, -0.7595, -0.8940]], device='cuda:0')\n"
          ]
        }
      ],
      "source": [
        "x = xr.clone()\n",
        "x.add_(-xr)\n",
        "print(x)\n",
        "print(xr)"
      ]
    },
    {
      "cell_type": "markdown",
      "metadata": {
        "id": "UWxZLzMrgC-J"
      },
      "source": [
        "Also be careful, changing the torch tensor modify the numpy array and vice-versa..."
      ]
    },
    {
      "cell_type": "code",
      "execution_count": 94,
      "metadata": {
        "id": "lkcW43iugC-J",
        "colab": {
          "base_uri": "https://localhost:8080/"
        },
        "outputId": "2b9b79bc-448e-486c-d66d-7c2ce120c0a3"
      },
      "outputs": [
        {
          "output_type": "stream",
          "name": "stdout",
          "text": [
            "tensor([[1., 1., 1., 1.],\n",
            "        [1., 1., 1., 1.]], device='cuda:0')\n",
            "[[1. 1. 1. 1.]\n",
            " [1. 1. 1. 1.]]\n"
          ]
        }
      ],
      "source": [
        "y=torch.ones(2,4)\n",
        "print(y)\n",
        "z = y.cpu().numpy()\n",
        "print(z)"
      ]
    },
    {
      "cell_type": "code",
      "execution_count": 95,
      "metadata": {
        "id": "qvRrtvz1gC-K",
        "colab": {
          "base_uri": "https://localhost:8080/"
        },
        "outputId": "d5754725-5d0d-4699-d160-68a80760c890"
      },
      "outputs": [
        {
          "output_type": "stream",
          "name": "stdout",
          "text": [
            "z= [[2. 2. 2. 2.]\n",
            " [2. 2. 2. 2.]]\n",
            "y= tensor([[1., 1., 1., 1.],\n",
            "        [1., 1., 1., 1.]], device='cuda:0') \n",
            "\n",
            "z= [[2. 2. 2. 2.]\n",
            " [2. 2. 2. 2.]]\n",
            "y= tensor([[-3., -3., -3., -3.],\n",
            "        [-3., -3., -3., -3.]], device='cuda:0')\n"
          ]
        }
      ],
      "source": [
        "np.add(z, 1, out=z)\n",
        "print(\"z=\", z)\n",
        "print(\"y=\", y,\"\\n\")\n",
        "torch.add(y, -4, out=y)\n",
        "print(\"z=\",z)\n",
        "print(\"y=\",y)"
      ]
    },
    {
      "cell_type": "markdown",
      "metadata": {
        "id": "AmGizC3pMbm8"
      },
      "source": [
        "## Computational graphs"
      ]
    },
    {
      "cell_type": "code",
      "execution_count": 96,
      "metadata": {
        "id": "O5Kw7MQpMxWB"
      },
      "outputs": [],
      "source": [
        "import matplotlib.pyplot as plt\n",
        "%matplotlib inline\n",
        "import torch"
      ]
    },
    {
      "cell_type": "code",
      "execution_count": 97,
      "metadata": {
        "id": "2Gza10WeM10G",
        "colab": {
          "base_uri": "https://localhost:8080/"
        },
        "outputId": "8f6fdc89-7e27-4b70-a76d-d12cb8391ccc"
      },
      "outputs": [
        {
          "output_type": "stream",
          "name": "stdout",
          "text": [
            "Requirement already satisfied: torchviz in /usr/local/lib/python3.10/dist-packages (0.0.2)\n",
            "Requirement already satisfied: torch in /usr/local/lib/python3.10/dist-packages (from torchviz) (2.4.1+cu121)\n",
            "Requirement already satisfied: graphviz in /usr/local/lib/python3.10/dist-packages (from torchviz) (0.20.3)\n",
            "Requirement already satisfied: filelock in /usr/local/lib/python3.10/dist-packages (from torch->torchviz) (3.16.1)\n",
            "Requirement already satisfied: typing-extensions>=4.8.0 in /usr/local/lib/python3.10/dist-packages (from torch->torchviz) (4.12.2)\n",
            "Requirement already satisfied: sympy in /usr/local/lib/python3.10/dist-packages (from torch->torchviz) (1.13.3)\n",
            "Requirement already satisfied: networkx in /usr/local/lib/python3.10/dist-packages (from torch->torchviz) (3.4.1)\n",
            "Requirement already satisfied: jinja2 in /usr/local/lib/python3.10/dist-packages (from torch->torchviz) (3.1.4)\n",
            "Requirement already satisfied: fsspec in /usr/local/lib/python3.10/dist-packages (from torch->torchviz) (2024.6.1)\n",
            "Requirement already satisfied: MarkupSafe>=2.0 in /usr/local/lib/python3.10/dist-packages (from jinja2->torch->torchviz) (3.0.1)\n",
            "Requirement already satisfied: mpmath<1.4,>=1.1.0 in /usr/local/lib/python3.10/dist-packages (from sympy->torch->torchviz) (1.3.0)\n"
          ]
        }
      ],
      "source": [
        "# Install torchviz if not installed before on your laptop\n",
        "!pip install torchviz\n",
        "\n",
        "# WARNING: You should install the graphviz package in your system (not just the python package).\n",
        "# If so, you must visit\n",
        "# https://graphviz.org/download/"
      ]
    },
    {
      "cell_type": "code",
      "execution_count": 98,
      "metadata": {
        "id": "1nEbmC7TM1mw"
      },
      "outputs": [],
      "source": [
        "import torchviz"
      ]
    },
    {
      "cell_type": "markdown",
      "metadata": {
        "id": "Sl_8ex--LGGy"
      },
      "source": [
        "### Question: Give an interpretation of the information in the graph drawn in the next cell."
      ]
    },
    {
      "cell_type": "markdown",
      "source": [
        "###Interprétation du graphe de rétropropagation :\n",
        "Dans ce code, on définit une opération tensorielle y = w * x + 2 où x est un tenseur de taille (2, 2) et w est un tenseur de taille (1, 1). La variable requires_grad=True permet de suivre les gradients pour les calculs de rétropropagation.\n",
        "\n",
        "Propagation avant : Le tenseur y est calculé en multipliant w par x (multiplication élément par élément) puis en ajoutant 2.\n",
        "Rétropropagation :\n",
        "Le premier nœud de rétropropagation est lié à l'addition (AddBackward0), mais comme l'ajout de 2 est une constante, elle n'affecte pas les gradients.\n",
        "Ensuite, la rétropropagation continue avec la multiplication (MulBackward0), où les vrais gradients sont calculés pour x et w.\n",
        "Le graphe visualisé montre cette séquence d'opérations : les gradients sont d'abord accumulés dans AccumulateGrad, puis les opérations de multiplication et d'addition sont traitées dans l'ordre inverse de la propagation avant.\n",
        "\n"
      ],
      "metadata": {
        "id": "FE6JHMMeE5wy"
      }
    },
    {
      "cell_type": "code",
      "execution_count": 99,
      "metadata": {
        "id": "5Z2dMtEOMuWb",
        "colab": {
          "base_uri": "https://localhost:8080/",
          "height": 469
        },
        "outputId": "c8830316-0344-42cc-e64a-2fd6ba6f8cc9"
      },
      "outputs": [
        {
          "output_type": "stream",
          "name": "stdout",
          "text": [
            "tensor([[1., 1.],\n",
            "        [1., 1.]], device='cuda:0', requires_grad=True)\n",
            "tensor([[0.8178]], device='cuda:0', requires_grad=True)\n",
            "tensor([[2.8178, 2.8178],\n",
            "        [2.8178, 2.8178]], device='cuda:0', grad_fn=<AddBackward0>)\n"
          ]
        },
        {
          "output_type": "execute_result",
          "data": {
            "image/svg+xml": "<?xml version=\"1.0\" encoding=\"UTF-8\" standalone=\"no\"?>\n<!DOCTYPE svg PUBLIC \"-//W3C//DTD SVG 1.1//EN\"\n \"http://www.w3.org/Graphics/SVG/1.1/DTD/svg11.dtd\">\n<!-- Generated by graphviz version 2.43.0 (0)\n -->\n<!-- Title: %3 Pages: 1 -->\n<svg width=\"228pt\" height=\"271pt\"\n viewBox=\"0.00 0.00 228.00 271.00\" xmlns=\"http://www.w3.org/2000/svg\" xmlns:xlink=\"http://www.w3.org/1999/xlink\">\n<g id=\"graph0\" class=\"graph\" transform=\"scale(1 1) rotate(0) translate(4 267)\">\n<title>%3</title>\n<polygon fill=\"white\" stroke=\"transparent\" points=\"-4,4 -4,-267 224,-267 224,4 -4,4\"/>\n<!-- 133299945379120 -->\n<g id=\"node1\" class=\"node\">\n<title>133299945379120</title>\n<polygon fill=\"#caff70\" stroke=\"black\" points=\"139,-31 80,-31 80,0 139,0 139,-31\"/>\n<text text-anchor=\"middle\" x=\"109.5\" y=\"-7\" font-family=\"monospace\" font-size=\"10.00\"> (2, 2)</text>\n</g>\n<!-- 133299946439152 -->\n<g id=\"node2\" class=\"node\">\n<title>133299946439152</title>\n<polygon fill=\"lightgrey\" stroke=\"black\" points=\"154,-86 65,-86 65,-67 154,-67 154,-86\"/>\n<text text-anchor=\"middle\" x=\"109.5\" y=\"-74\" font-family=\"monospace\" font-size=\"10.00\">AddBackward0</text>\n</g>\n<!-- 133299946439152&#45;&gt;133299945379120 -->\n<g id=\"edge6\" class=\"edge\">\n<title>133299946439152&#45;&gt;133299945379120</title>\n<path fill=\"none\" stroke=\"black\" d=\"M109.5,-66.79C109.5,-60.07 109.5,-50.4 109.5,-41.34\"/>\n<polygon fill=\"black\" stroke=\"black\" points=\"113,-41.19 109.5,-31.19 106,-41.19 113,-41.19\"/>\n</g>\n<!-- 133299946448032 -->\n<g id=\"node3\" class=\"node\">\n<title>133299946448032</title>\n<polygon fill=\"lightgrey\" stroke=\"black\" points=\"154,-141 65,-141 65,-122 154,-122 154,-141\"/>\n<text text-anchor=\"middle\" x=\"109.5\" y=\"-129\" font-family=\"monospace\" font-size=\"10.00\">MulBackward0</text>\n</g>\n<!-- 133299946448032&#45;&gt;133299946439152 -->\n<g id=\"edge1\" class=\"edge\">\n<title>133299946448032&#45;&gt;133299946439152</title>\n<path fill=\"none\" stroke=\"black\" d=\"M109.5,-121.75C109.5,-114.8 109.5,-104.85 109.5,-96.13\"/>\n<polygon fill=\"black\" stroke=\"black\" points=\"113,-96.09 109.5,-86.09 106,-96.09 113,-96.09\"/>\n</g>\n<!-- 133299946439776 -->\n<g id=\"node4\" class=\"node\">\n<title>133299946439776</title>\n<polygon fill=\"lightgrey\" stroke=\"black\" points=\"101,-196 0,-196 0,-177 101,-177 101,-196\"/>\n<text text-anchor=\"middle\" x=\"50.5\" y=\"-184\" font-family=\"monospace\" font-size=\"10.00\">AccumulateGrad</text>\n</g>\n<!-- 133299946439776&#45;&gt;133299946448032 -->\n<g id=\"edge2\" class=\"edge\">\n<title>133299946439776&#45;&gt;133299946448032</title>\n<path fill=\"none\" stroke=\"black\" d=\"M59.98,-176.98C68.7,-169.15 81.84,-157.34 92.4,-147.86\"/>\n<polygon fill=\"black\" stroke=\"black\" points=\"94.75,-150.46 99.85,-141.17 90.07,-145.25 94.75,-150.46\"/>\n</g>\n<!-- 133299944659264 -->\n<g id=\"node5\" class=\"node\">\n<title>133299944659264</title>\n<polygon fill=\"lightblue\" stroke=\"black\" points=\"80,-263 21,-263 21,-232 80,-232 80,-263\"/>\n<text text-anchor=\"middle\" x=\"50.5\" y=\"-239\" font-family=\"monospace\" font-size=\"10.00\"> (1, 1)</text>\n</g>\n<!-- 133299944659264&#45;&gt;133299946439776 -->\n<g id=\"edge3\" class=\"edge\">\n<title>133299944659264&#45;&gt;133299946439776</title>\n<path fill=\"none\" stroke=\"black\" d=\"M50.5,-231.92C50.5,-224.22 50.5,-214.69 50.5,-206.43\"/>\n<polygon fill=\"black\" stroke=\"black\" points=\"54,-206.25 50.5,-196.25 47,-206.25 54,-206.25\"/>\n</g>\n<!-- 133299946445344 -->\n<g id=\"node6\" class=\"node\">\n<title>133299946445344</title>\n<polygon fill=\"lightgrey\" stroke=\"black\" points=\"220,-196 119,-196 119,-177 220,-177 220,-196\"/>\n<text text-anchor=\"middle\" x=\"169.5\" y=\"-184\" font-family=\"monospace\" font-size=\"10.00\">AccumulateGrad</text>\n</g>\n<!-- 133299946445344&#45;&gt;133299946448032 -->\n<g id=\"edge4\" class=\"edge\">\n<title>133299946445344&#45;&gt;133299946448032</title>\n<path fill=\"none\" stroke=\"black\" d=\"M159.86,-176.98C150.99,-169.15 137.63,-157.34 126.89,-147.86\"/>\n<polygon fill=\"black\" stroke=\"black\" points=\"129.13,-145.17 119.32,-141.17 124.49,-150.41 129.13,-145.17\"/>\n</g>\n<!-- 133300669203136 -->\n<g id=\"node7\" class=\"node\">\n<title>133300669203136</title>\n<polygon fill=\"lightblue\" stroke=\"black\" points=\"199,-263 140,-263 140,-232 199,-232 199,-263\"/>\n<text text-anchor=\"middle\" x=\"169.5\" y=\"-239\" font-family=\"monospace\" font-size=\"10.00\"> (2, 2)</text>\n</g>\n<!-- 133300669203136&#45;&gt;133299946445344 -->\n<g id=\"edge5\" class=\"edge\">\n<title>133300669203136&#45;&gt;133299946445344</title>\n<path fill=\"none\" stroke=\"black\" d=\"M169.5,-231.92C169.5,-224.22 169.5,-214.69 169.5,-206.43\"/>\n<polygon fill=\"black\" stroke=\"black\" points=\"173,-206.25 169.5,-196.25 166,-206.25 173,-206.25\"/>\n</g>\n</g>\n</svg>\n",
            "text/plain": [
              "<graphviz.graphs.Digraph at 0x793c4ff4d840>"
            ]
          },
          "metadata": {},
          "execution_count": 99
        }
      ],
      "source": [
        "x = torch.ones(2, 2, requires_grad=True)\n",
        "w = torch.rand(1, 1, requires_grad=True)\n",
        "print(x)\n",
        "print(w)\n",
        "y = w * x + 2\n",
        "print(y)\n",
        "torchviz.make_dot(y)"
      ]
    },
    {
      "cell_type": "markdown",
      "metadata": {
        "id": "AsKmpu9WJgdy"
      },
      "source": [
        "## Create your first neural network (with random parameters)"
      ]
    },
    {
      "cell_type": "code",
      "execution_count": 100,
      "metadata": {
        "id": "XZ3YcUCaJgdy"
      },
      "outputs": [],
      "source": [
        "import torch\n",
        "import torch.nn as nn\n",
        "import torch.nn.functional as F"
      ]
    },
    {
      "cell_type": "markdown",
      "metadata": {
        "id": "psfNXuxMJgd0"
      },
      "source": [
        "Let's define the neural network model as a class"
      ]
    },
    {
      "cell_type": "code",
      "execution_count": 101,
      "metadata": {
        "id": "YkwqeCOEJgd0"
      },
      "outputs": [],
      "source": [
        "# Définition de la classe du réseau de neurones\n",
        "class Net(nn.Module):\n",
        "    def __init__(self):\n",
        "        super(Net, self).__init__()\n",
        "        # Première couche entièrement connectée (fully connected layer)\n",
        "        # Prend une entrée de dimension 20 et la projette dans un espace de 10 neurones\n",
        "        self.fc1 = nn.Linear(20, 10)\n",
        "\n",
        "        # Deuxième couche entièrement connectée\n",
        "        # Prend l'output de taille 10 de la première couche et la projette vers 4 neurones\n",
        "        self.fc2 = nn.Linear(10, 4)\n",
        "\n",
        "    # Définition du parcours avant des données à travers le réseau\n",
        "    def forward(self, x):\n",
        "        # Passer les données dans la première couche entièrement connectée\n",
        "        x = self.fc1(x)\n",
        "\n",
        "        # Appliquer la fonction d'activation ReLU pour ajouter de la non-linéarité\n",
        "        x = F.relu(x)\n",
        "\n",
        "        # Passer les données dans la deuxième couche entièrement connectée\n",
        "        x = self.fc2(x)\n",
        "\n",
        "        # Appliquer la fonction softmax pour transformer les outputs en probabilités (sur 4 classes)\n",
        "        output = F.softmax(x, dim=1)\n",
        "\n",
        "        # Retourner le résultat final\n",
        "        return output"
      ]
    },
    {
      "cell_type": "markdown",
      "metadata": {
        "id": "63yr0-OnJgd2"
      },
      "source": [
        "Let’s instantiate the neural network model"
      ]
    },
    {
      "cell_type": "code",
      "execution_count": 102,
      "metadata": {
        "id": "4EHGce4iJgd3"
      },
      "outputs": [],
      "source": [
        "my_nn = Net()"
      ]
    },
    {
      "cell_type": "markdown",
      "metadata": {
        "id": "y2GD_KIBUTgS"
      },
      "source": [
        "### Question: test the model by passing some random data through it (3 random vectors following a normal distribution)\n",
        "\n",
        "Hint: you can look at https://pytorch.org/tutorials/recipes/recipes/defining_a_neural_network.html"
      ]
    },
    {
      "cell_type": "code",
      "execution_count": 103,
      "metadata": {
        "id": "zADMlk1oJgd5",
        "colab": {
          "base_uri": "https://localhost:8080/"
        },
        "outputId": "e66ba6bf-ae59-44eb-fbc8-7553316279a9"
      },
      "outputs": [
        {
          "output_type": "stream",
          "name": "stdout",
          "text": [
            "tensor([[0.5859, 0.0757, 0.2702, 0.2353, 0.6392, 0.7225, 0.7707, 0.4214, 0.8045,\n",
            "         0.9829, 0.8376, 0.5751, 0.7847, 0.0657, 0.7130, 0.1015, 0.6362, 0.3312,\n",
            "         0.8555, 0.4148],\n",
            "        [0.5926, 0.7544, 0.8028, 0.5435, 0.3330, 0.2509, 0.6112, 0.4354, 0.5789,\n",
            "         0.1966, 0.4220, 0.7862, 0.3409, 0.0168, 0.9045, 0.4772, 0.0515, 0.2713,\n",
            "         0.7990, 0.6148],\n",
            "        [0.7786, 0.0953, 0.5097, 0.7417, 0.4440, 0.2594, 0.2816, 0.5810, 0.1139,\n",
            "         0.2407, 0.4410, 0.6702, 0.6104, 0.9314, 0.1178, 0.0973, 0.7638, 0.9591,\n",
            "         0.3774, 0.6161]], device='cuda:0')\n",
            "tensor([[0.1907, 0.2390, 0.2808, 0.2896],\n",
            "        [0.1940, 0.2472, 0.2754, 0.2835],\n",
            "        [0.1908, 0.2399, 0.2785, 0.2909]], device='cuda:0',\n",
            "       grad_fn=<SoftmaxBackward0>)\n"
          ]
        }
      ],
      "source": [
        "# Equates to one random 28x28 image\n",
        "random_data = torch.rand(3,20)\n",
        "print(random_data)\n",
        "my_nn = Net()\n",
        "result = my_nn(random_data)\n",
        "print (result)"
      ]
    },
    {
      "cell_type": "markdown",
      "metadata": {
        "id": "GyHdjfniJ0QO"
      },
      "source": [
        "### Question: print the computational graph of the neural network with the names of the parameters."
      ]
    },
    {
      "cell_type": "code",
      "execution_count": 104,
      "metadata": {
        "id": "UWc3OhaqJtn7",
        "colab": {
          "base_uri": "https://localhost:8080/",
          "height": 645
        },
        "outputId": "bd4617c8-e044-49c7-c4b2-ad70858b91f5"
      },
      "outputs": [
        {
          "output_type": "execute_result",
          "data": {
            "image/svg+xml": "<?xml version=\"1.0\" encoding=\"UTF-8\" standalone=\"no\"?>\n<!DOCTYPE svg PUBLIC \"-//W3C//DTD SVG 1.1//EN\"\n \"http://www.w3.org/Graphics/SVG/1.1/DTD/svg11.dtd\">\n<!-- Generated by graphviz version 2.43.0 (0)\n -->\n<!-- Title: %3 Pages: 1 -->\n<svg width=\"340pt\" height=\"468pt\"\n viewBox=\"0.00 0.00 340.00 468.00\" xmlns=\"http://www.w3.org/2000/svg\" xmlns:xlink=\"http://www.w3.org/1999/xlink\">\n<g id=\"graph0\" class=\"graph\" transform=\"scale(1 1) rotate(0) translate(4 464)\">\n<title>%3</title>\n<polygon fill=\"white\" stroke=\"transparent\" points=\"-4,4 -4,-464 336,-464 336,4 -4,4\"/>\n<!-- 133299945380720 -->\n<g id=\"node1\" class=\"node\">\n<title>133299945380720</title>\n<polygon fill=\"#caff70\" stroke=\"black\" points=\"196,-31 137,-31 137,0 196,0 196,-31\"/>\n<text text-anchor=\"middle\" x=\"166.5\" y=\"-7\" font-family=\"monospace\" font-size=\"10.00\"> (3, 4)</text>\n</g>\n<!-- 133299946442032 -->\n<g id=\"node2\" class=\"node\">\n<title>133299946442032</title>\n<polygon fill=\"lightgrey\" stroke=\"black\" points=\"223,-86 110,-86 110,-67 223,-67 223,-86\"/>\n<text text-anchor=\"middle\" x=\"166.5\" y=\"-74\" font-family=\"monospace\" font-size=\"10.00\">SoftmaxBackward0</text>\n</g>\n<!-- 133299946442032&#45;&gt;133299945380720 -->\n<g id=\"edge14\" class=\"edge\">\n<title>133299946442032&#45;&gt;133299945380720</title>\n<path fill=\"none\" stroke=\"black\" d=\"M166.5,-66.79C166.5,-60.07 166.5,-50.4 166.5,-41.34\"/>\n<polygon fill=\"black\" stroke=\"black\" points=\"170,-41.19 166.5,-31.19 163,-41.19 170,-41.19\"/>\n</g>\n<!-- 133299946454416 -->\n<g id=\"node3\" class=\"node\">\n<title>133299946454416</title>\n<polygon fill=\"lightgrey\" stroke=\"black\" points=\"217,-141 116,-141 116,-122 217,-122 217,-141\"/>\n<text text-anchor=\"middle\" x=\"166.5\" y=\"-129\" font-family=\"monospace\" font-size=\"10.00\">AddmmBackward0</text>\n</g>\n<!-- 133299946454416&#45;&gt;133299946442032 -->\n<g id=\"edge1\" class=\"edge\">\n<title>133299946454416&#45;&gt;133299946442032</title>\n<path fill=\"none\" stroke=\"black\" d=\"M166.5,-121.75C166.5,-114.8 166.5,-104.85 166.5,-96.13\"/>\n<polygon fill=\"black\" stroke=\"black\" points=\"170,-96.09 166.5,-86.09 163,-96.09 170,-96.09\"/>\n</g>\n<!-- 133299946441120 -->\n<g id=\"node4\" class=\"node\">\n<title>133299946441120</title>\n<polygon fill=\"lightgrey\" stroke=\"black\" points=\"101,-196 0,-196 0,-177 101,-177 101,-196\"/>\n<text text-anchor=\"middle\" x=\"50.5\" y=\"-184\" font-family=\"monospace\" font-size=\"10.00\">AccumulateGrad</text>\n</g>\n<!-- 133299946441120&#45;&gt;133299946454416 -->\n<g id=\"edge2\" class=\"edge\">\n<title>133299946441120&#45;&gt;133299946454416</title>\n<path fill=\"none\" stroke=\"black\" d=\"M69.14,-176.98C87.8,-168.46 116.75,-155.23 138.24,-145.41\"/>\n<polygon fill=\"black\" stroke=\"black\" points=\"139.88,-148.51 147.52,-141.17 136.97,-142.14 139.88,-148.51\"/>\n</g>\n<!-- 133299945388000 -->\n<g id=\"node5\" class=\"node\">\n<title>133299945388000</title>\n<polygon fill=\"lightblue\" stroke=\"black\" points=\"83,-262 18,-262 18,-232 83,-232 83,-262\"/>\n<text text-anchor=\"middle\" x=\"50.5\" y=\"-250\" font-family=\"monospace\" font-size=\"10.00\">fc2.bias</text>\n<text text-anchor=\"middle\" x=\"50.5\" y=\"-239\" font-family=\"monospace\" font-size=\"10.00\"> (4)</text>\n</g>\n<!-- 133299945388000&#45;&gt;133299946441120 -->\n<g id=\"edge3\" class=\"edge\">\n<title>133299945388000&#45;&gt;133299946441120</title>\n<path fill=\"none\" stroke=\"black\" d=\"M50.5,-231.84C50.5,-224.21 50.5,-214.7 50.5,-206.45\"/>\n<polygon fill=\"black\" stroke=\"black\" points=\"54,-206.27 50.5,-196.27 47,-206.27 54,-206.27\"/>\n</g>\n<!-- 133299946441696 -->\n<g id=\"node6\" class=\"node\">\n<title>133299946441696</title>\n<polygon fill=\"lightgrey\" stroke=\"black\" points=\"214,-196 119,-196 119,-177 214,-177 214,-196\"/>\n<text text-anchor=\"middle\" x=\"166.5\" y=\"-184\" font-family=\"monospace\" font-size=\"10.00\">ReluBackward0</text>\n</g>\n<!-- 133299946441696&#45;&gt;133299946454416 -->\n<g id=\"edge4\" class=\"edge\">\n<title>133299946441696&#45;&gt;133299946454416</title>\n<path fill=\"none\" stroke=\"black\" d=\"M166.5,-176.75C166.5,-169.8 166.5,-159.85 166.5,-151.13\"/>\n<polygon fill=\"black\" stroke=\"black\" points=\"170,-151.09 166.5,-141.09 163,-151.09 170,-151.09\"/>\n</g>\n<!-- 133299946448752 -->\n<g id=\"node7\" class=\"node\">\n<title>133299946448752</title>\n<polygon fill=\"lightgrey\" stroke=\"black\" points=\"213,-256.5 112,-256.5 112,-237.5 213,-237.5 213,-256.5\"/>\n<text text-anchor=\"middle\" x=\"162.5\" y=\"-244.5\" font-family=\"monospace\" font-size=\"10.00\">AddmmBackward0</text>\n</g>\n<!-- 133299946448752&#45;&gt;133299946441696 -->\n<g id=\"edge5\" class=\"edge\">\n<title>133299946448752&#45;&gt;133299946441696</title>\n<path fill=\"none\" stroke=\"black\" d=\"M163.09,-237.37C163.65,-229.25 164.5,-216.81 165.21,-206.39\"/>\n<polygon fill=\"black\" stroke=\"black\" points=\"168.72,-206.38 165.91,-196.17 161.73,-205.91 168.72,-206.38\"/>\n</g>\n<!-- 133299946452400 -->\n<g id=\"node8\" class=\"node\">\n<title>133299946452400</title>\n<polygon fill=\"lightgrey\" stroke=\"black\" points=\"118,-322.5 17,-322.5 17,-303.5 118,-303.5 118,-322.5\"/>\n<text text-anchor=\"middle\" x=\"67.5\" y=\"-310.5\" font-family=\"monospace\" font-size=\"10.00\">AccumulateGrad</text>\n</g>\n<!-- 133299946452400&#45;&gt;133299946448752 -->\n<g id=\"edge6\" class=\"edge\">\n<title>133299946452400&#45;&gt;133299946448752</title>\n<path fill=\"none\" stroke=\"black\" d=\"M80.31,-303.37C95.89,-292.87 122.43,-275 141.12,-262.4\"/>\n<polygon fill=\"black\" stroke=\"black\" points=\"143.25,-265.19 149.59,-256.7 139.34,-259.38 143.25,-265.19\"/>\n</g>\n<!-- 133299945337488 -->\n<g id=\"node9\" class=\"node\">\n<title>133299945337488</title>\n<polygon fill=\"lightblue\" stroke=\"black\" points=\"100,-394 35,-394 35,-364 100,-364 100,-394\"/>\n<text text-anchor=\"middle\" x=\"67.5\" y=\"-382\" font-family=\"monospace\" font-size=\"10.00\">fc1.bias</text>\n<text text-anchor=\"middle\" x=\"67.5\" y=\"-371\" font-family=\"monospace\" font-size=\"10.00\"> (10)</text>\n</g>\n<!-- 133299945337488&#45;&gt;133299946452400 -->\n<g id=\"edge7\" class=\"edge\">\n<title>133299945337488&#45;&gt;133299946452400</title>\n<path fill=\"none\" stroke=\"black\" d=\"M67.5,-363.8C67.5,-354.7 67.5,-342.79 67.5,-332.9\"/>\n<polygon fill=\"black\" stroke=\"black\" points=\"71,-332.84 67.5,-322.84 64,-332.84 71,-332.84\"/>\n</g>\n<!-- 133299946444960 -->\n<g id=\"node10\" class=\"node\">\n<title>133299946444960</title>\n<polygon fill=\"lightgrey\" stroke=\"black\" points=\"213,-322.5 136,-322.5 136,-303.5 213,-303.5 213,-322.5\"/>\n<text text-anchor=\"middle\" x=\"174.5\" y=\"-310.5\" font-family=\"monospace\" font-size=\"10.00\">TBackward0</text>\n</g>\n<!-- 133299946444960&#45;&gt;133299946448752 -->\n<g id=\"edge8\" class=\"edge\">\n<title>133299946444960&#45;&gt;133299946448752</title>\n<path fill=\"none\" stroke=\"black\" d=\"M172.88,-303.37C171.14,-294.07 168.31,-278.98 166.04,-266.9\"/>\n<polygon fill=\"black\" stroke=\"black\" points=\"169.45,-266.09 164.17,-256.91 162.57,-267.38 169.45,-266.09\"/>\n</g>\n<!-- 133299946451104 -->\n<g id=\"node11\" class=\"node\">\n<title>133299946451104</title>\n<polygon fill=\"lightgrey\" stroke=\"black\" points=\"225,-388.5 124,-388.5 124,-369.5 225,-369.5 225,-388.5\"/>\n<text text-anchor=\"middle\" x=\"174.5\" y=\"-376.5\" font-family=\"monospace\" font-size=\"10.00\">AccumulateGrad</text>\n</g>\n<!-- 133299946451104&#45;&gt;133299946444960 -->\n<g id=\"edge9\" class=\"edge\">\n<title>133299946451104&#45;&gt;133299946444960</title>\n<path fill=\"none\" stroke=\"black\" d=\"M174.5,-369.37C174.5,-360.16 174.5,-345.29 174.5,-333.27\"/>\n<polygon fill=\"black\" stroke=\"black\" points=\"178,-332.91 174.5,-322.91 171,-332.91 178,-332.91\"/>\n</g>\n<!-- 133299945326048 -->\n<g id=\"node12\" class=\"node\">\n<title>133299945326048</title>\n<polygon fill=\"lightblue\" stroke=\"black\" points=\"213,-460 136,-460 136,-430 213,-430 213,-460\"/>\n<text text-anchor=\"middle\" x=\"174.5\" y=\"-448\" font-family=\"monospace\" font-size=\"10.00\">fc1.weight</text>\n<text text-anchor=\"middle\" x=\"174.5\" y=\"-437\" font-family=\"monospace\" font-size=\"10.00\"> (10, 20)</text>\n</g>\n<!-- 133299945326048&#45;&gt;133299946451104 -->\n<g id=\"edge10\" class=\"edge\">\n<title>133299945326048&#45;&gt;133299946451104</title>\n<path fill=\"none\" stroke=\"black\" d=\"M174.5,-429.8C174.5,-420.7 174.5,-408.79 174.5,-398.9\"/>\n<polygon fill=\"black\" stroke=\"black\" points=\"178,-398.84 174.5,-388.84 171,-398.84 178,-398.84\"/>\n</g>\n<!-- 133299946454992 -->\n<g id=\"node13\" class=\"node\">\n<title>133299946454992</title>\n<polygon fill=\"lightgrey\" stroke=\"black\" points=\"313,-196 236,-196 236,-177 313,-177 313,-196\"/>\n<text text-anchor=\"middle\" x=\"274.5\" y=\"-184\" font-family=\"monospace\" font-size=\"10.00\">TBackward0</text>\n</g>\n<!-- 133299946454992&#45;&gt;133299946454416 -->\n<g id=\"edge11\" class=\"edge\">\n<title>133299946454992&#45;&gt;133299946454416</title>\n<path fill=\"none\" stroke=\"black\" d=\"M257.15,-176.98C239.93,-168.54 213.3,-155.47 193.35,-145.68\"/>\n<polygon fill=\"black\" stroke=\"black\" points=\"194.69,-142.43 184.17,-141.17 191.6,-148.72 194.69,-142.43\"/>\n</g>\n<!-- 133299946448992 -->\n<g id=\"node14\" class=\"node\">\n<title>133299946448992</title>\n<polygon fill=\"lightgrey\" stroke=\"black\" points=\"332,-256.5 231,-256.5 231,-237.5 332,-237.5 332,-256.5\"/>\n<text text-anchor=\"middle\" x=\"281.5\" y=\"-244.5\" font-family=\"monospace\" font-size=\"10.00\">AccumulateGrad</text>\n</g>\n<!-- 133299946448992&#45;&gt;133299946454992 -->\n<g id=\"edge12\" class=\"edge\">\n<title>133299946448992&#45;&gt;133299946454992</title>\n<path fill=\"none\" stroke=\"black\" d=\"M280.47,-237.37C279.5,-229.25 278.01,-216.81 276.76,-206.39\"/>\n<polygon fill=\"black\" stroke=\"black\" points=\"280.2,-205.68 275.54,-196.17 273.25,-206.51 280.2,-205.68\"/>\n</g>\n<!-- 133299945383360 -->\n<g id=\"node15\" class=\"node\">\n<title>133299945383360</title>\n<polygon fill=\"lightblue\" stroke=\"black\" points=\"320,-328 243,-328 243,-298 320,-298 320,-328\"/>\n<text text-anchor=\"middle\" x=\"281.5\" y=\"-316\" font-family=\"monospace\" font-size=\"10.00\">fc2.weight</text>\n<text text-anchor=\"middle\" x=\"281.5\" y=\"-305\" font-family=\"monospace\" font-size=\"10.00\"> (4, 10)</text>\n</g>\n<!-- 133299945383360&#45;&gt;133299946448992 -->\n<g id=\"edge13\" class=\"edge\">\n<title>133299945383360&#45;&gt;133299946448992</title>\n<path fill=\"none\" stroke=\"black\" d=\"M281.5,-297.8C281.5,-288.7 281.5,-276.79 281.5,-266.9\"/>\n<polygon fill=\"black\" stroke=\"black\" points=\"285,-266.84 281.5,-256.84 278,-266.84 285,-266.84\"/>\n</g>\n</g>\n</svg>\n",
            "text/plain": [
              "<graphviz.graphs.Digraph at 0x793c4ff4dc60>"
            ]
          },
          "metadata": {},
          "execution_count": 104
        }
      ],
      "source": [
        "dot = torchviz.make_dot(result, params=dict(my_nn.named_parameters()))\n",
        "\n",
        "# Afficher le graphe computationnel\n",
        "dot.render(\"computational_graph\", format=\"png\")  # Sauvegarder en format PNG\n",
        "dot  # Afficher dans le notebook"
      ]
    },
    {
      "cell_type": "markdown",
      "metadata": {
        "id": "zoFY0CMvJgd7"
      },
      "source": [
        "### Question: Verify the sum of each output. How to interpret the output?"
      ]
    },
    {
      "cell_type": "code",
      "execution_count": 105,
      "metadata": {
        "id": "oSfMUonxJgd8",
        "colab": {
          "base_uri": "https://localhost:8080/"
        },
        "outputId": "a841188c-0365-415f-d4d7-43fdd3baf123"
      },
      "outputs": [
        {
          "output_type": "stream",
          "name": "stdout",
          "text": [
            "tensor([1., 1., 1.], device='cuda:0', grad_fn=<SumBackward1>)\n"
          ]
        }
      ],
      "source": [
        "# prompt: Question: Verify the sum of each output. How to interpret the output?\n",
        "\n",
        "result_sum = torch.sum(result, dim=1)\n",
        "print(result_sum)"
      ]
    }
  ],
  "metadata": {
    "colab": {
      "provenance": [],
      "gpuType": "T4",
      "include_colab_link": true
    },
    "kernelspec": {
      "display_name": "Python 3 (ipykernel)",
      "name": "python3",
      "language": "python"
    },
    "language_info": {
      "codemirror_mode": {
        "name": "ipython",
        "version": 3
      },
      "file_extension": ".py",
      "mimetype": "text/x-python",
      "name": "python",
      "nbconvert_exporter": "python",
      "pygments_lexer": "ipython3",
      "version": "3.10.9"
    },
    "accelerator": "GPU"
  },
  "nbformat": 4,
  "nbformat_minor": 0
}