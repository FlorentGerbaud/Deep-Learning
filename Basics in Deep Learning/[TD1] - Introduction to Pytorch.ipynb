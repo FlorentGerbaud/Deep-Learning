{
  "cells": [
    {
      "cell_type": "markdown",
      "metadata": {
        "id": "view-in-github",
        "colab_type": "text"
      },
      "source": [
        "<a href=\"https://colab.research.google.com/github/FlorentGerbaud/Deep-Learning/blob/main/%5BTD1%5D%20-%20Introduction%20to%20Pytorch.ipynb\" target=\"_parent\"><img src=\"https://colab.research.google.com/assets/colab-badge.svg\" alt=\"Open In Colab\"/></a>"
      ]
    },
    {
      "cell_type": "markdown",
      "metadata": {
        "id": "iogTCNRqJgcK"
      },
      "source": [
        "# Lab 1: Torch basics\n",
        "# The goal of this lab is to discover Pytorch, especially the Tensor concept.\n"
      ]
    },
    {
      "cell_type": "code",
      "metadata": {
        "id": "Pe1KgPFqgC9m",
        "colab": {
          "base_uri": "https://localhost:8080/",
          "height": 35
        },
        "outputId": "50c8a354-11d5-4587-8818-8f224ab011c2",
        "ExecuteTime": {
          "end_time": "2024-10-17T16:41:08.413464Z",
          "start_time": "2024-10-17T16:41:08.409511Z"
        }
      },
      "source": [
        "torch.__version__"
      ],
      "outputs": [
        {
          "output_type": "execute_result",
          "data": {
            "text/plain": [
              "'2.4.1+cu121'"
            ],
            "application/vnd.google.colaboratory.intrinsic+json": {
              "type": "string"
            }
          },
          "metadata": {},
          "execution_count": 25
        }
      ],
      "execution_count": null
    },
    {
      "cell_type": "code",
      "metadata": {
        "id": "Hh6cps5cgC9g",
        "ExecuteTime": {
          "end_time": "2024-10-17T16:41:14.686624Z",
          "start_time": "2024-10-17T16:41:14.681505Z"
        }
      },
      "source": [
        "import matplotlib.pyplot as plt\n",
        "%matplotlib inline\n",
        "import torch\n",
        "import numpy as np"
      ],
      "outputs": [],
      "execution_count": null
    },
    {
      "cell_type": "markdown",
      "metadata": {
        "id": "lMn2UjdXgC9r"
      },
      "source": [
        "Largely inspired from the tutorial [What is PyTorch?](https://pytorch.org/tutorials/beginner/former_torchies/tensor_tutorial.html)\n",
        "\n",
        "Tensors are used to encode the signal to process, but also the internal states and parameters of models.\n",
        "\n",
        "Manipulating data through this constrained structure allows to use CPUs and GPUs at peak performance.\n",
        "\n"
      ]
    },
    {
      "cell_type": "markdown",
      "metadata": {
        "id": "loUAlh7dyVpN"
      },
      "source": [
        "## Tensors"
      ]
    },
    {
      "cell_type": "markdown",
      "metadata": {
        "id": "hlUFi857xt6Q"
      },
      "source": [
        "Construct a 3x5 matrix, uninitialized:"
      ]
    },
    {
      "cell_type": "code",
      "metadata": {
        "id": "2kLcNt8IgC9r",
        "colab": {
          "base_uri": "https://localhost:8080/"
        },
        "outputId": "9d1d893f-e68a-4ccb-a8bf-ad229d111688",
        "ExecuteTime": {
          "end_time": "2024-10-17T16:45:43.216108Z",
          "start_time": "2024-10-17T16:45:43.212181Z"
        }
      },
      "source": [
        "# Set the default floating point dtype to float32\n",
        "torch.set_default_dtype(torch.float32)\n",
        "\n",
        "# Optional: Set the default device to 'cuda' if available, otherwise 'cpu'\n",
        "device = 'cuda' if torch.cuda.is_available() else 'cpu'\n",
        "torch.set_default_device(device)\n",
        "print(device)"
      ],
      "outputs": [
        {
          "output_type": "stream",
          "name": "stdout",
          "text": [
            "cuda\n"
          ]
        }
      ],
      "execution_count": null
    },
    {
      "cell_type": "code",
      "execution_count": null,
      "metadata": {
        "id": "RjUhHCJMgC9u",
        "colab": {
          "base_uri": "https://localhost:8080/"
        },
        "outputId": "7f9b9009-f569-4440-ed27-cf3db2d3b7d4"
      },
      "outputs": [
        {
          "output_type": "stream",
          "name": "stdout",
          "text": [
            "torch.cuda.FloatTensor\n",
            "tensor([[0.0000, 2.1875, 3.5000, 3.5000, 3.5000],\n",
            "        [3.5000, 3.5000, 3.5000, 3.5000, 3.5000],\n",
            "        [3.5000, 3.5000, 3.5000, 3.5000, 3.5000]], device='cuda:0')\n"
          ]
        }
      ],
      "source": [
        "x = torch.empty(3,5)\n",
        "print(x.type())\n",
        "print(x)"
      ]
    },
    {
      "cell_type": "code",
      "execution_count": null,
      "metadata": {
        "id": "MnRsrLh5gC9w",
        "colab": {
          "base_uri": "https://localhost:8080/"
        },
        "outputId": "e8bc77b1-5754-476c-c828-9f9871acef22"
      },
      "outputs": [
        {
          "output_type": "stream",
          "name": "stdout",
          "text": [
            "tensor([[ 1.5258,  1.2863, -0.3570, -1.4613, -0.7220],\n",
            "        [-0.0393, -1.3824,  0.5868, -0.4192,  0.8560],\n",
            "        [ 0.3382, -0.7531, -0.3380, -0.6013, -0.5061]], device='cuda:0')\n"
          ]
        }
      ],
      "source": [
        "x = torch.randn(3,5)\n",
        "print(x)"
      ]
    },
    {
      "cell_type": "code",
      "execution_count": null,
      "metadata": {
        "id": "lfgpO7kUgC9z",
        "colab": {
          "base_uri": "https://localhost:8080/"
        },
        "outputId": "dd25bfaf-088a-4ef2-e27b-bf6032b70378"
      },
      "outputs": [
        {
          "output_type": "stream",
          "name": "stdout",
          "text": [
            "torch.Size([3, 5])\n"
          ]
        }
      ],
      "source": [
        "print(x.size())"
      ]
    },
    {
      "cell_type": "markdown",
      "metadata": {
        "id": "NNLzvVKigC92"
      },
      "source": [
        "torch.Size is in fact a [tuple](https://docs.python.org/3/tutorial/datastructures.html#tuples-and-sequences), so it supports the same operations."
      ]
    },
    {
      "cell_type": "code",
      "execution_count": null,
      "metadata": {
        "id": "W-o3sFH3gC92",
        "colab": {
          "base_uri": "https://localhost:8080/"
        },
        "outputId": "1b3c61ea-5549-47c6-8969-b13861c64c8a"
      },
      "outputs": [
        {
          "output_type": "execute_result",
          "data": {
            "text/plain": [
              "5"
            ]
          },
          "metadata": {},
          "execution_count": 31
        }
      ],
      "source": [
        "x.size()[1]"
      ]
    },
    {
      "cell_type": "code",
      "execution_count": null,
      "metadata": {
        "id": "LkQAasgtgC95",
        "colab": {
          "base_uri": "https://localhost:8080/"
        },
        "outputId": "1f814627-378c-4b1e-97a2-ea6c81c00c79"
      },
      "outputs": [
        {
          "output_type": "execute_result",
          "data": {
            "text/plain": [
              "True"
            ]
          },
          "metadata": {},
          "execution_count": 32
        }
      ],
      "source": [
        "x.size() == (3,5)"
      ]
    },
    {
      "cell_type": "markdown",
      "metadata": {
        "id": "GDufwT0Kstxv"
      },
      "source": [
        "Importance of the brackets when defining a tensor"
      ]
    },
    {
      "cell_type": "code",
      "execution_count": null,
      "metadata": {
        "id": "wa9IPaaqsaPg",
        "colab": {
          "base_uri": "https://localhost:8080/"
        },
        "outputId": "820a0b95-6824-4ee7-ddea-5b15c3efeeb2"
      },
      "outputs": [
        {
          "output_type": "stream",
          "name": "stdout",
          "text": [
            "<class 'torch.Tensor'>\n",
            "torch.float32\n",
            "torch.Size([1])\n",
            "<class 'torch.Tensor'>\n",
            "torch.float32\n",
            "torch.Size([])\n"
          ]
        }
      ],
      "source": [
        "a = torch.tensor([2.0])\n",
        "print(type(a))\n",
        "print(a.dtype)\n",
        "print(a.size())\n",
        "\n",
        "b = torch.tensor(2.0)\n",
        "print(type(b))\n",
        "print(b.dtype)\n",
        "print(b.size())"
      ]
    },
    {
      "cell_type": "markdown",
      "metadata": {
        "id": "XeAg1TcMhyf4"
      },
      "source": [
        "Select some columns"
      ]
    },
    {
      "cell_type": "code",
      "execution_count": null,
      "metadata": {
        "id": "DZaC-fXlgY6G",
        "colab": {
          "base_uri": "https://localhost:8080/"
        },
        "outputId": "37b58d36-9936-488a-a1cf-162884293fd3"
      },
      "outputs": [
        {
          "output_type": "stream",
          "name": "stdout",
          "text": [
            "tensor([False, False, False, False, False], device='cuda:0')\n",
            "tensor([False,  True, False, False,  True], device='cuda:0')\n",
            "tensor([[ 1.2863, -0.7220],\n",
            "        [-1.3824,  0.8560],\n",
            "        [-0.7531, -0.5061]], device='cuda:0')\n"
          ]
        }
      ],
      "source": [
        "cols = torch.zeros(5, dtype=torch.bool)\n",
        "print(cols)\n",
        "cols[1] = True\n",
        "cols[4] = True\n",
        "print(cols)\n",
        "c = x[:, cols]  # selects all rows, 2nd column and  5th column from x\n",
        "print(c)"
      ]
    },
    {
      "cell_type": "markdown",
      "metadata": {
        "id": "t9v3syrRf-13"
      },
      "source": [
        "All operations on the tensor that operate in-place on it will have an _ postfix."
      ]
    },
    {
      "cell_type": "code",
      "execution_count": null,
      "metadata": {
        "id": "zr3PP5oVf1SV",
        "colab": {
          "base_uri": "https://localhost:8080/"
        },
        "outputId": "f42536a7-877a-4b2d-db2f-a2fcbdb51c7a"
      },
      "outputs": [
        {
          "output_type": "stream",
          "name": "stdout",
          "text": [
            "tensor([[3.5000, 3.5000, 3.5000, 3.5000, 3.5000],\n",
            "        [3.5000, 3.5000, 3.5000, 3.5000, 3.5000],\n",
            "        [3.5000, 3.5000, 3.5000, 3.5000, 3.5000]], device='cuda:0')\n"
          ]
        }
      ],
      "source": [
        "# x will be filled with the value 3.5\n",
        "x.fill_(3.5)\n",
        "print(x)"
      ]
    },
    {
      "cell_type": "markdown",
      "metadata": {
        "id": "SXPtlUXsgC96"
      },
      "source": [
        "## Bridge to numpy"
      ]
    },
    {
      "cell_type": "code",
      "execution_count": null,
      "metadata": {
        "id": "61srdUzCgC97",
        "colab": {
          "base_uri": "https://localhost:8080/"
        },
        "outputId": "b40b2b2a-c5a0-4354-a420-4989d1584ce2"
      },
      "outputs": [
        {
          "output_type": "stream",
          "name": "stdout",
          "text": [
            "[[3.5 3.5 3.5 3.5 3.5]\n",
            " [3.5 3.5 3.5 3.5 3.5]\n",
            " [3.5 3.5 3.5 3.5 3.5]]\n"
          ]
        }
      ],
      "source": [
        "y = x.cpu().numpy()\n",
        "print(y)"
      ]
    },
    {
      "cell_type": "code",
      "execution_count": null,
      "metadata": {
        "id": "tFv5BzYsgC99",
        "colab": {
          "base_uri": "https://localhost:8080/"
        },
        "outputId": "d77bf9f8-f23f-46f3-d34d-5cecd95d2fe0"
      },
      "outputs": [
        {
          "output_type": "stream",
          "name": "stdout",
          "text": [
            "tensor([1., 1., 1., 1., 1.], dtype=torch.float64)\n"
          ]
        }
      ],
      "source": [
        "a = np.ones(5)\n",
        "b = torch.from_numpy(a)\n",
        "print(b)\n"
      ]
    },
    {
      "cell_type": "code",
      "execution_count": null,
      "metadata": {
        "id": "lfpk2tfpgC9-",
        "colab": {
          "base_uri": "https://localhost:8080/"
        },
        "outputId": "dd14ee58-6a22-4de0-e074-2bbe1761bc0a"
      },
      "outputs": [
        {
          "output_type": "stream",
          "name": "stdout",
          "text": [
            "tensor([[-0.9799, -0.3586,  1.7791,  0.5451,  1.3800],\n",
            "        [ 0.2846, -0.3257,  0.7344, -0.0674, -0.8459],\n",
            "        [ 1.8466,  0.1162, -0.9899,  0.5859,  0.7658]], device='cuda:0')\n",
            "tensor([1, 1, 1, 1, 1])\n"
          ]
        }
      ],
      "source": [
        "xr = torch.randn(3, 5)\n",
        "a = np.ones(5).astype(int)\n",
        "b = torch.from_numpy(a)\n",
        "print(xr)\n",
        "print(b)"
      ]
    },
    {
      "cell_type": "markdown",
      "metadata": {
        "id": "C6sKTTlZ0RmP"
      },
      "source": [
        "### Question: print the type of the content (data) of variables a, b and xr"
      ]
    },
    {
      "cell_type": "code",
      "execution_count": null,
      "metadata": {
        "id": "k07dBWLRxARt",
        "colab": {
          "base_uri": "https://localhost:8080/"
        },
        "outputId": "a7c9c55c-1bf9-4340-e11f-1f8b17cd29d4"
      },
      "outputs": [
        {
          "output_type": "stream",
          "name": "stdout",
          "text": [
            "int64\n",
            "torch.int64\n",
            "torch.float32\n"
          ]
        }
      ],
      "source": [
        "# Code here\n",
        "print(a.dtype)\n",
        "print(b.dtype)\n",
        "print(xr.dtype)"
      ]
    },
    {
      "cell_type": "markdown",
      "metadata": {
        "id": "7fwWdAYjUuiN"
      },
      "source": [
        "## Operations\n",
        "\n",
        "There are multiple syntaxes for operations. In the following\n",
        "example, we will take a look at the addition operation.\n",
        "\n",
        "Addition: syntax 1"
      ]
    },
    {
      "cell_type": "code",
      "execution_count": null,
      "metadata": {
        "id": "4iASmmTAUxG0",
        "colab": {
          "base_uri": "https://localhost:8080/"
        },
        "outputId": "decf8a59-bbd8-4711-9968-d05d7038519e"
      },
      "outputs": [
        {
          "output_type": "stream",
          "name": "stdout",
          "text": [
            "tensor([[1.0247, 0.3570, 1.0040],\n",
            "        [0.9694, 1.1254, 0.7933],\n",
            "        [1.3047, 0.5318, 0.3709],\n",
            "        [0.5661, 0.6928, 1.1996],\n",
            "        [1.2627, 0.6383, 0.6570]], device='cuda:0')\n"
          ]
        }
      ],
      "source": [
        "x = torch.rand(5, 3)\n",
        "y = torch.rand(5, 3)\n",
        "print(x + y)"
      ]
    },
    {
      "cell_type": "markdown",
      "metadata": {
        "id": "H5NxjdPhVQP8"
      },
      "source": [
        "Addition: syntax 2"
      ]
    },
    {
      "cell_type": "code",
      "execution_count": null,
      "metadata": {
        "id": "GwCo8DOcVRHq",
        "colab": {
          "base_uri": "https://localhost:8080/"
        },
        "outputId": "4c75e2a2-5923-4a79-863d-016b87402f58"
      },
      "outputs": [
        {
          "output_type": "stream",
          "name": "stdout",
          "text": [
            "tensor([[1.0247, 0.3570, 1.0040],\n",
            "        [0.9694, 1.1254, 0.7933],\n",
            "        [1.3047, 0.5318, 0.3709],\n",
            "        [0.5661, 0.6928, 1.1996],\n",
            "        [1.2627, 0.6383, 0.6570]], device='cuda:0')\n"
          ]
        }
      ],
      "source": [
        "print(torch.add(x, y))"
      ]
    },
    {
      "cell_type": "markdown",
      "metadata": {
        "id": "wNuL3H61VZvS"
      },
      "source": [
        "Addition: providing an output tensor as argument"
      ]
    },
    {
      "cell_type": "code",
      "execution_count": null,
      "metadata": {
        "id": "hX1ffSunVail",
        "colab": {
          "base_uri": "https://localhost:8080/"
        },
        "outputId": "a70f1c7b-f3aa-482a-ef7b-398fe4419e09"
      },
      "outputs": [
        {
          "output_type": "stream",
          "name": "stdout",
          "text": [
            "tensor([[1.0247, 0.3570, 1.0040],\n",
            "        [0.9694, 1.1254, 0.7933],\n",
            "        [1.3047, 0.5318, 0.3709],\n",
            "        [0.5661, 0.6928, 1.1996],\n",
            "        [1.2627, 0.6383, 0.6570]], device='cuda:0')\n"
          ]
        }
      ],
      "source": [
        "result = torch.empty(5, 3)\n",
        "torch.add(x, y, out=result)\n",
        "print(result)"
      ]
    },
    {
      "cell_type": "markdown",
      "metadata": {
        "id": "-VK0_f0rVejB"
      },
      "source": [
        "Addition: in-place"
      ]
    },
    {
      "cell_type": "code",
      "execution_count": null,
      "metadata": {
        "id": "rj0GKMgSVlGV",
        "colab": {
          "base_uri": "https://localhost:8080/"
        },
        "outputId": "c58a6939-045a-49ba-92ce-cb8b61807eed"
      },
      "outputs": [
        {
          "output_type": "stream",
          "name": "stdout",
          "text": [
            "tensor([[1.0247, 0.3570, 1.0040],\n",
            "        [0.9694, 1.1254, 0.7933],\n",
            "        [1.3047, 0.5318, 0.3709],\n",
            "        [0.5661, 0.6928, 1.1996],\n",
            "        [1.2627, 0.6383, 0.6570]], device='cuda:0')\n"
          ]
        }
      ],
      "source": [
        "# adds x to y\n",
        "y.add_(x)\n",
        "print(y)"
      ]
    },
    {
      "cell_type": "markdown",
      "metadata": {
        "id": "EgNBadgeVscS"
      },
      "source": [
        "**Note:** Any operation that mutates a tensor in-place is post-fixed with an ``_``.\n",
        "    For example: ``x.copy_(y)``, ``x.t_()``, will change ``x``.\n",
        "\n"
      ]
    },
    {
      "cell_type": "markdown",
      "metadata": {
        "id": "kOPtMoOkgC-G"
      },
      "source": [
        "Any operation that mutates a tensor in-place is post-fixed with an ```_```\n",
        "\n",
        "For example: ```x.copy_(y)```, ```x.t_()```, will change ```x```."
      ]
    },
    {
      "cell_type": "code",
      "execution_count": null,
      "metadata": {
        "id": "hrOV0mQIgC-G",
        "colab": {
          "base_uri": "https://localhost:8080/"
        },
        "outputId": "c65d8996-8b9b-4e70-f1bc-efcf3d4ad9a9"
      },
      "outputs": [
        {
          "output_type": "stream",
          "name": "stdout",
          "text": [
            "tensor([[0.6703, 0.6192, 0.3895, 0.3222, 0.4892],\n",
            "        [0.1083, 0.2362, 0.2598, 0.2471, 0.1963],\n",
            "        [0.1589, 0.6642, 0.0900, 0.4746, 0.6554]], device='cuda:0')\n"
          ]
        }
      ],
      "source": [
        "print(x.t())"
      ]
    },
    {
      "cell_type": "code",
      "execution_count": null,
      "metadata": {
        "id": "LfNnD4vSgC-H",
        "colab": {
          "base_uri": "https://localhost:8080/"
        },
        "outputId": "318630f3-5ca6-4414-92a3-8dad633eec05"
      },
      "outputs": [
        {
          "output_type": "stream",
          "name": "stdout",
          "text": [
            "tensor([[0.6703, 0.1083, 0.1589],\n",
            "        [0.6192, 0.2362, 0.6642],\n",
            "        [0.3895, 0.2598, 0.0900],\n",
            "        [0.3222, 0.2471, 0.4746],\n",
            "        [0.4892, 0.1963, 0.6554]], device='cuda:0')\n"
          ]
        }
      ],
      "source": [
        "print(x)"
      ]
    },
    {
      "cell_type": "code",
      "execution_count": null,
      "metadata": {
        "id": "5YdHeI8lgC-I",
        "colab": {
          "base_uri": "https://localhost:8080/"
        },
        "outputId": "6fcd79ab-6b8f-4540-a170-a9d9dbef03fc"
      },
      "outputs": [
        {
          "output_type": "stream",
          "name": "stdout",
          "text": [
            "tensor([[0.6703, 0.6192, 0.3895, 0.3222, 0.4892],\n",
            "        [0.1083, 0.2362, 0.2598, 0.2471, 0.1963],\n",
            "        [0.1589, 0.6642, 0.0900, 0.4746, 0.6554]], device='cuda:0')\n"
          ]
        }
      ],
      "source": [
        "x.t_()\n",
        "print(x)"
      ]
    },
    {
      "cell_type": "markdown",
      "metadata": {
        "id": "UfxHIL-mWyZl"
      },
      "source": [
        "You can use standard NumPy-like indexing with all bells and whistles!"
      ]
    },
    {
      "cell_type": "code",
      "execution_count": null,
      "metadata": {
        "id": "Cz4M97B2Wtyu",
        "colab": {
          "base_uri": "https://localhost:8080/"
        },
        "outputId": "aa6dffe3-65c7-45c5-bc63-4409ba270e47"
      },
      "outputs": [
        {
          "output_type": "stream",
          "name": "stdout",
          "text": [
            "tensor([0.6192, 0.2362, 0.6642], device='cuda:0')\n"
          ]
        }
      ],
      "source": [
        "print(x[:, 1])"
      ]
    },
    {
      "cell_type": "markdown",
      "metadata": {
        "id": "M6tsVH8zW8yB"
      },
      "source": [
        "Resizing (very useful): If you want to resize/reshape tensor, you can use ``torch.view``:"
      ]
    },
    {
      "cell_type": "code",
      "execution_count": null,
      "metadata": {
        "id": "k0qjaFPDW_3I",
        "colab": {
          "base_uri": "https://localhost:8080/"
        },
        "outputId": "c9464c81-e676-4644-95f4-4b23d5e6c265"
      },
      "outputs": [
        {
          "output_type": "stream",
          "name": "stdout",
          "text": [
            "tensor([[ 0.8360,  1.5426, -1.0895, -0.3212],\n",
            "        [ 0.3521,  1.4505, -2.0051, -0.5815],\n",
            "        [-1.2199,  0.3958, -0.5177,  0.2896],\n",
            "        [-0.9513,  0.4112, -0.2401,  0.2985]], device='cuda:0')\n",
            "tensor([ 0.8360,  1.5426, -1.0895, -0.3212,  0.3521,  1.4505, -2.0051, -0.5815,\n",
            "        -1.2199,  0.3958, -0.5177,  0.2896, -0.9513,  0.4112, -0.2401,  0.2985],\n",
            "       device='cuda:0')\n",
            "tensor([[ 0.8360,  1.5426, -1.0895, -0.3212,  0.3521,  1.4505, -2.0051, -0.5815],\n",
            "        [-1.2199,  0.3958, -0.5177,  0.2896, -0.9513,  0.4112, -0.2401,  0.2985]],\n",
            "       device='cuda:0')\n",
            "torch.Size([4, 4]) torch.Size([16]) torch.Size([2, 8])\n"
          ]
        }
      ],
      "source": [
        "x = torch.randn(4, 4)\n",
        "print(x)\n",
        "y = x.view(16)\n",
        "print(y)\n",
        "z = x.view(-1, 8)  # the size -1 is inferred from other dimensions\n",
        "print(z)\n",
        "print(x.size(), y.size(), z.size())"
      ]
    },
    {
      "cell_type": "markdown",
      "metadata": {
        "id": "fP8sTTCgXRak"
      },
      "source": [
        "If you have a one element tensor, use ``.item()`` to get the value as a\n",
        "Python number"
      ]
    },
    {
      "cell_type": "code",
      "execution_count": null,
      "metadata": {
        "id": "zaG9x6SHXSPw",
        "colab": {
          "base_uri": "https://localhost:8080/"
        },
        "outputId": "ed084037-7f30-42b4-91a3-099c7cb12a25"
      },
      "outputs": [
        {
          "output_type": "stream",
          "name": "stdout",
          "text": [
            "tensor([-1.5108], device='cuda:0')\n",
            "-1.510769248008728\n"
          ]
        }
      ],
      "source": [
        "x = torch.randn(1)\n",
        "print(x)\n",
        "print(x.item())"
      ]
    },
    {
      "cell_type": "markdown",
      "metadata": {
        "id": "mqCvPrp-XmZQ"
      },
      "source": [
        "**Read later:**\n",
        "\n",
        "\n",
        "  100+ Tensor operations, including transposing, indexing, slicing,\n",
        "  mathematical operations, linear algebra, random numbers, etc.,\n",
        "  are described\n",
        "  [here](https://pytorch.org/docs/torch)."
      ]
    },
    {
      "cell_type": "markdown",
      "metadata": {
        "id": "8Jk-JGYpeCNz"
      },
      "source": [
        "## 3D Tensors"
      ]
    },
    {
      "cell_type": "markdown",
      "metadata": {
        "id": "RTGbU2E-eLWF"
      },
      "source": [
        "### Question: What is the size of the following tensor?"
      ]
    },
    {
      "cell_type": "code",
      "execution_count": null,
      "metadata": {
        "id": "d-Dg4nyOeD4f",
        "colab": {
          "base_uri": "https://localhost:8080/"
        },
        "outputId": "48655d5e-d36d-433e-c5af-b34eab3365c0"
      },
      "outputs": [
        {
          "output_type": "stream",
          "name": "stdout",
          "text": [
            "tensor([[[1, 2, 3],\n",
            "         [4, 5, 6]],\n",
            "\n",
            "        [[1, 2, 3],\n",
            "         [4, 5, 6]],\n",
            "\n",
            "        [[1, 2, 3],\n",
            "         [4, 5, 6]]], device='cuda:0')\n"
          ]
        }
      ],
      "source": [
        "y = torch.tensor([\n",
        "     [\n",
        "       [1, 2, 3],\n",
        "       [4, 5, 6]\n",
        "     ],\n",
        "     [\n",
        "       [1, 2, 3],\n",
        "       [4, 5, 6]\n",
        "     ],\n",
        "     [\n",
        "       [1, 2, 3],\n",
        "       [4, 5, 6]\n",
        "     ]\n",
        "   ])\n",
        "print(y)"
      ]
    },
    {
      "cell_type": "code",
      "execution_count": null,
      "metadata": {
        "id": "2gBU82BTe0_y",
        "colab": {
          "base_uri": "https://localhost:8080/"
        },
        "outputId": "93c8d952-189c-4df6-81e5-e3e00ae3fd2a"
      },
      "outputs": [
        {
          "output_type": "stream",
          "name": "stdout",
          "text": [
            "torch.Size([3, 2, 3])\n"
          ]
        }
      ],
      "source": [
        "# Code here\n",
        "print(y.size())"
      ]
    },
    {
      "cell_type": "markdown",
      "metadata": {
        "id": "dOUGbVEUe9DC"
      },
      "source": [
        "### Question: Explain the result of the next cell"
      ]
    },
    {
      "cell_type": "markdown",
      "source": [
        "## Explanation of `torch.sum()`\n",
        "\n",
        "The `torch.sum()` function in PyTorch is used to compute the sum of elements in a tensor along a specified dimension. When called, it takes a tensor and a `dim` argument that determines the dimension over which the summation will occur. For instance, if you have a 3D tensor representing multiple matrices, specifying `dim=0` will sum the elements across different matrices, while `dim=1` will sum across the rows of each matrix, and `dim=2` will sum across the columns. This ability to reduce dimensions allows for efficient aggregation operations on multidimensional data. As a result, `torch.sum()` is particularly useful for data analysis, statistical calculations, and training machine learning models, as it facilitates the manipulation and interpretation of tensors.\n"
      ],
      "metadata": {
        "id": "LBl1pa7QhCy-"
      }
    },
    {
      "cell_type": "code",
      "execution_count": null,
      "metadata": {
        "id": "14O04VMTe9eg",
        "colab": {
          "base_uri": "https://localhost:8080/"
        },
        "outputId": "804db951-505e-4226-e9f0-10a3eb63eafb"
      },
      "outputs": [
        {
          "output_type": "execute_result",
          "data": {
            "text/plain": [
              "tensor([[ 6, 15],\n",
              "        [ 6, 15],\n",
              "        [ 6, 15]], device='cuda:0')"
            ]
          },
          "metadata": {},
          "execution_count": 65
        }
      ],
      "source": [
        "torch.sum(y, dim=2)"
      ]
    },
    {
      "cell_type": "markdown",
      "metadata": {
        "id": "Ev68h5j1ZUNH"
      },
      "source": [
        "## Broadcasting semantics\n",
        "\n",
        "In short, if a PyTorch operation supports broadcast, then its Tensor arguments can be automatically expanded to be of equal sizes (without making copies of the data).\n",
        "\n",
        "Two tensors are “broadcastable” if the following rules hold:\n",
        "\n",
        "*   Each tensor has at least one dimension.\n",
        "*   When iterating over the dimension sizes, **starting at the trailing dimension**, the dimension sizes must either be equal, one of them is 1, or one of them does not exist.\n",
        "\n",
        "If two tensors x, y are “broadcastable”, the resulting tensor size is calculated as follows:\n",
        "* If the number of dimensions of x and y are not equal, prepend 1 to the dimensions of the tensor with fewer dimensions to make them equal length.\n",
        "* Then, for each dimension size, the resulting dimension size is the max of the sizes of x and y along that dimension.\n",
        "\n",
        "More details [here](https://pytorch.org/docs/stable/notes/broadcasting.html)\n",
        "\n"
      ]
    },
    {
      "cell_type": "code",
      "execution_count": null,
      "metadata": {
        "id": "P3f9hXLxZXQa",
        "colab": {
          "base_uri": "https://localhost:8080/"
        },
        "outputId": "cf765bac-8f13-4885-c7cd-2df3b3a241b3"
      },
      "outputs": [
        {
          "output_type": "stream",
          "name": "stdout",
          "text": [
            "torch.Size([5, 4, 4, 3])\n"
          ]
        }
      ],
      "source": [
        "# can line up trailing dimensions to make reading easier\n",
        "x=torch.empty(5,1,4,1)\n",
        "y=torch.empty(  4,1,3)\n",
        "print((x+y).size())\n"
      ]
    },
    {
      "cell_type": "code",
      "execution_count": null,
      "metadata": {
        "id": "LsYo7aBqaJ5F",
        "colab": {
          "base_uri": "https://localhost:8080/"
        },
        "outputId": "80b340d5-7331-4a6f-b001-3ab2f902e87f"
      },
      "outputs": [
        {
          "output_type": "stream",
          "name": "stdout",
          "text": [
            "torch.Size([3, 1, 7])\n",
            "torch.Size([3, 1, 7])\n",
            "tensor([[[1.0000e+00, 2.0000e+00, 4.0000e+00, 3.5000e+00, 3.5000e+00,\n",
            "          3.5000e+00, 3.5000e+00]],\n",
            "\n",
            "        [[3.5000e+00, 3.5000e+00, 3.5000e+00, 3.5000e+00, 3.5000e+00,\n",
            "          3.5000e+00, 3.5000e+00]],\n",
            "\n",
            "        [[3.5000e+00, 1.8844e+00, 3.6893e+19, 1.5678e+00, 3.6893e+19,\n",
            "          2.0104e+00, -0.0000e+00]]], device='cuda:0')\n"
          ]
        }
      ],
      "source": [
        "# but not necessary:\n",
        "x=torch.empty(1)\n",
        "y=torch.empty(3,1,7)\n",
        "print(y.size())\n",
        "print((x+y).size())\n",
        "\n"
      ]
    },
    {
      "cell_type": "code",
      "source": [
        "t1=torch.tensor([\n",
        "     [\n",
        "       [1, 2, 3],\n",
        "       [4, 5, 6]\n",
        "     ],\n",
        "     [\n",
        "       [1, 2, 3],\n",
        "       [4, 5, 6]\n",
        "     ],\n",
        "     [\n",
        "       [1, 2, 3],\n",
        "       [4, 5, 6]\n",
        "     ]\n",
        "   ])\n",
        "print(t1.size())\n",
        "t2=torch.tensor([1.0])\n",
        "print(t2.size())\n",
        "T=t1+t2\n",
        "print(T)\n",
        "print(T.size())"
      ],
      "metadata": {
        "colab": {
          "base_uri": "https://localhost:8080/"
        },
        "id": "mfFzi8JbiPSs",
        "outputId": "cac4dd2f-9473-41da-c25a-f3cf5c67b78a"
      },
      "execution_count": null,
      "outputs": [
        {
          "output_type": "stream",
          "name": "stdout",
          "text": [
            "torch.Size([3, 2, 3])\n",
            "torch.Size([1])\n",
            "tensor([[[2., 3., 4.],\n",
            "         [5., 6., 7.]],\n",
            "\n",
            "        [[2., 3., 4.],\n",
            "         [5., 6., 7.]],\n",
            "\n",
            "        [[2., 3., 4.],\n",
            "         [5., 6., 7.]]], device='cuda:0')\n",
            "torch.Size([3, 2, 3])\n"
          ]
        }
      ]
    },
    {
      "cell_type": "markdown",
      "metadata": {
        "id": "0n_Y_hY6fxeL"
      },
      "source": [
        "### Question: The following command does not work. Why?\n",
        "\n"
      ]
    },
    {
      "cell_type": "markdown",
      "source": [
        "In PyTorch, the line `print((x + y).size())` fails because the tensors `x` and `y` cannot be broadcast together due to incompatible dimensions. Tensor `x` has a shape of `(5, 2, 4, 1)`, while tensor `y` has a shape of `(3, 1, 1)`. When attempting to broadcast, the dimensions are compared from the last dimension to the first. The first dimensions (5 and 3) do not match, preventing broadcasting. Therefore, PyTorch raises an error when trying to perform the addition since the shapes are not compatible for broadcasting.\n"
      ],
      "metadata": {
        "id": "agHSm6Sok2OJ"
      }
    },
    {
      "cell_type": "code",
      "execution_count": null,
      "metadata": {
        "id": "Vq3SqanjaO6U",
        "colab": {
          "base_uri": "https://localhost:8080/",
          "height": 297
        },
        "outputId": "ca05540f-cabb-43bb-ac40-eef5659b9f54"
      },
      "outputs": [
        {
          "output_type": "error",
          "ename": "RuntimeError",
          "evalue": "The size of tensor a (2) must match the size of tensor b (3) at non-singleton dimension 1",
          "traceback": [
            "\u001b[0;31m---------------------------------------------------------------------------\u001b[0m",
            "\u001b[0;31mRuntimeError\u001b[0m                              Traceback (most recent call last)",
            "\u001b[0;32m<ipython-input-91-b8d3fcc0b74d>\u001b[0m in \u001b[0;36m<cell line: 3>\u001b[0;34m()\u001b[0m\n\u001b[1;32m      1\u001b[0m \u001b[0mx\u001b[0m\u001b[0;34m=\u001b[0m\u001b[0mtorch\u001b[0m\u001b[0;34m.\u001b[0m\u001b[0mempty\u001b[0m\u001b[0;34m(\u001b[0m\u001b[0;36m5\u001b[0m\u001b[0;34m,\u001b[0m\u001b[0;36m2\u001b[0m\u001b[0;34m,\u001b[0m\u001b[0;36m4\u001b[0m\u001b[0;34m,\u001b[0m\u001b[0;36m1\u001b[0m\u001b[0;34m)\u001b[0m\u001b[0;34m\u001b[0m\u001b[0;34m\u001b[0m\u001b[0m\n\u001b[1;32m      2\u001b[0m \u001b[0my\u001b[0m\u001b[0;34m=\u001b[0m\u001b[0mtorch\u001b[0m\u001b[0;34m.\u001b[0m\u001b[0mempty\u001b[0m\u001b[0;34m(\u001b[0m  \u001b[0;36m3\u001b[0m\u001b[0;34m,\u001b[0m\u001b[0;36m1\u001b[0m\u001b[0;34m,\u001b[0m\u001b[0;36m1\u001b[0m\u001b[0;34m)\u001b[0m\u001b[0;34m\u001b[0m\u001b[0;34m\u001b[0m\u001b[0m\n\u001b[0;32m----> 3\u001b[0;31m \u001b[0mprint\u001b[0m\u001b[0;34m(\u001b[0m\u001b[0;34m(\u001b[0m\u001b[0mx\u001b[0m\u001b[0;34m+\u001b[0m\u001b[0my\u001b[0m\u001b[0;34m)\u001b[0m\u001b[0;34m.\u001b[0m\u001b[0msize\u001b[0m\u001b[0;34m(\u001b[0m\u001b[0;34m)\u001b[0m\u001b[0;34m)\u001b[0m\u001b[0;34m\u001b[0m\u001b[0;34m\u001b[0m\u001b[0m\n\u001b[0m",
            "\u001b[0;32m/usr/local/lib/python3.10/dist-packages/torch/utils/_device.py\u001b[0m in \u001b[0;36m__torch_function__\u001b[0;34m(self, func, types, args, kwargs)\u001b[0m\n\u001b[1;32m     77\u001b[0m         \u001b[0;32mif\u001b[0m \u001b[0mfunc\u001b[0m \u001b[0;32min\u001b[0m \u001b[0m_device_constructors\u001b[0m\u001b[0;34m(\u001b[0m\u001b[0;34m)\u001b[0m \u001b[0;32mand\u001b[0m \u001b[0mkwargs\u001b[0m\u001b[0;34m.\u001b[0m\u001b[0mget\u001b[0m\u001b[0;34m(\u001b[0m\u001b[0;34m'device'\u001b[0m\u001b[0;34m)\u001b[0m \u001b[0;32mis\u001b[0m \u001b[0;32mNone\u001b[0m\u001b[0;34m:\u001b[0m\u001b[0;34m\u001b[0m\u001b[0;34m\u001b[0m\u001b[0m\n\u001b[1;32m     78\u001b[0m             \u001b[0mkwargs\u001b[0m\u001b[0;34m[\u001b[0m\u001b[0;34m'device'\u001b[0m\u001b[0;34m]\u001b[0m \u001b[0;34m=\u001b[0m \u001b[0mself\u001b[0m\u001b[0;34m.\u001b[0m\u001b[0mdevice\u001b[0m\u001b[0;34m\u001b[0m\u001b[0;34m\u001b[0m\u001b[0m\n\u001b[0;32m---> 79\u001b[0;31m         \u001b[0;32mreturn\u001b[0m \u001b[0mfunc\u001b[0m\u001b[0;34m(\u001b[0m\u001b[0;34m*\u001b[0m\u001b[0margs\u001b[0m\u001b[0;34m,\u001b[0m \u001b[0;34m**\u001b[0m\u001b[0mkwargs\u001b[0m\u001b[0;34m)\u001b[0m\u001b[0;34m\u001b[0m\u001b[0;34m\u001b[0m\u001b[0m\n\u001b[0m\u001b[1;32m     80\u001b[0m \u001b[0;34m\u001b[0m\u001b[0m\n\u001b[1;32m     81\u001b[0m \u001b[0;31m# NB: This is directly called from C++ in torch/csrc/Device.cpp\u001b[0m\u001b[0;34m\u001b[0m\u001b[0;34m\u001b[0m\u001b[0m\n",
            "\u001b[0;31mRuntimeError\u001b[0m: The size of tensor a (2) must match the size of tensor b (3) at non-singleton dimension 1"
          ]
        }
      ],
      "source": [
        "x=torch.empty(5,2,4,1)\n",
        "y=torch.empty(  3,1,1)\n",
        "print((x+y).size())\n"
      ]
    },
    {
      "cell_type": "code",
      "execution_count": null,
      "metadata": {
        "id": "ha4-WRJ0g4l9",
        "colab": {
          "base_uri": "https://localhost:8080/"
        },
        "outputId": "0f4d4700-e525-4e46-981a-897d236caa72"
      },
      "outputs": [
        {
          "output_type": "stream",
          "name": "stdout",
          "text": [
            "tensor([[[3., 3., 3., 3.],\n",
            "         [3., 3., 3., 3.]],\n",
            "\n",
            "        [[3., 3., 3., 3.],\n",
            "         [3., 3., 3., 3.]],\n",
            "\n",
            "        [[3., 3., 3., 3.],\n",
            "         [3., 3., 3., 3.]]], device='cuda:0')\n"
          ]
        }
      ],
      "source": [
        "x=2*torch.ones(  2,4)\n",
        "y=torch.ones(3,2,4)\n",
        "print(x+y)"
      ]
    },
    {
      "cell_type": "markdown",
      "metadata": {
        "id": "Afol8pk8VPUn"
      },
      "source": [
        "### Question: What is the diffence between \"x = xr\" and \"x = xr.clone()\"?"
      ]
    },
    {
      "cell_type": "code",
      "execution_count": null,
      "metadata": {
        "id": "ROIvJcOngC-E",
        "colab": {
          "base_uri": "https://localhost:8080/"
        },
        "outputId": "69586ab0-9274-497f-936a-c0c68dd306fd"
      },
      "outputs": [
        {
          "output_type": "stream",
          "name": "stdout",
          "text": [
            "tensor([[0., 0., 0., 0., 0.],\n",
            "        [0., 0., 0., 0., 0.],\n",
            "        [0., 0., 0., 0., 0.]], device='cuda:0')\n",
            "tensor([[-0.9799, -0.3586,  1.7791,  0.5451,  1.3800],\n",
            "        [ 0.2846, -0.3257,  0.7344, -0.0674, -0.8459],\n",
            "        [ 1.8466,  0.1162, -0.9899,  0.5859,  0.7658]], device='cuda:0')\n"
          ]
        }
      ],
      "source": [
        "x = xr.clone()\n",
        "x.add_(-xr)\n",
        "print(x)\n",
        "print(xr)"
      ]
    },
    {
      "cell_type": "markdown",
      "metadata": {
        "id": "UWxZLzMrgC-J"
      },
      "source": [
        "Also be careful, changing the torch tensor modify the numpy array and vice-versa..."
      ]
    },
    {
      "cell_type": "code",
      "execution_count": null,
      "metadata": {
        "id": "lkcW43iugC-J",
        "colab": {
          "base_uri": "https://localhost:8080/"
        },
        "outputId": "e7246547-79da-4c8b-be48-461167260973"
      },
      "outputs": [
        {
          "output_type": "stream",
          "name": "stdout",
          "text": [
            "tensor([[1., 1., 1., 1.],\n",
            "        [1., 1., 1., 1.]], device='cuda:0')\n",
            "[[1. 1. 1. 1.]\n",
            " [1. 1. 1. 1.]]\n"
          ]
        }
      ],
      "source": [
        "y=torch.ones(2,4)\n",
        "print(y)\n",
        "z = y.cpu().numpy()\n",
        "print(z)"
      ]
    },
    {
      "cell_type": "code",
      "execution_count": null,
      "metadata": {
        "id": "qvRrtvz1gC-K",
        "colab": {
          "base_uri": "https://localhost:8080/"
        },
        "outputId": "1ebf9214-bc5b-46f7-db1d-4118ed127e2d"
      },
      "outputs": [
        {
          "output_type": "stream",
          "name": "stdout",
          "text": [
            "z= [[2. 2. 2. 2.]\n",
            " [2. 2. 2. 2.]]\n",
            "y= tensor([[1., 1., 1., 1.],\n",
            "        [1., 1., 1., 1.]], device='cuda:0') \n",
            "\n",
            "z= [[2. 2. 2. 2.]\n",
            " [2. 2. 2. 2.]]\n",
            "y= tensor([[-3., -3., -3., -3.],\n",
            "        [-3., -3., -3., -3.]], device='cuda:0')\n"
          ]
        }
      ],
      "source": [
        "np.add(z, 1, out=z)\n",
        "print(\"z=\", z)\n",
        "print(\"y=\", y,\"\\n\")\n",
        "torch.add(y, -4, out=y)\n",
        "print(\"z=\",z)\n",
        "print(\"y=\",y)"
      ]
    },
    {
      "cell_type": "markdown",
      "metadata": {
        "id": "AmGizC3pMbm8"
      },
      "source": [
        "## Computational graphs"
      ]
    },
    {
      "cell_type": "code",
      "execution_count": null,
      "metadata": {
        "id": "O5Kw7MQpMxWB"
      },
      "outputs": [],
      "source": [
        "import matplotlib.pyplot as plt\n",
        "%matplotlib inline\n",
        "import torch"
      ]
    },
    {
      "cell_type": "code",
      "execution_count": null,
      "metadata": {
        "id": "2Gza10WeM10G",
        "colab": {
          "base_uri": "https://localhost:8080/"
        },
        "outputId": "bc382260-c59b-4e2c-fa33-18f5500e8bf2"
      },
      "outputs": [
        {
          "output_type": "stream",
          "name": "stdout",
          "text": [
            "Collecting torchviz\n",
            "  Downloading torchviz-0.0.2.tar.gz (4.9 kB)\n",
            "  Preparing metadata (setup.py) ... \u001b[?25l\u001b[?25hdone\n",
            "Requirement already satisfied: torch in /usr/local/lib/python3.10/dist-packages (from torchviz) (2.4.1+cu121)\n",
            "Requirement already satisfied: graphviz in /usr/local/lib/python3.10/dist-packages (from torchviz) (0.20.3)\n",
            "Requirement already satisfied: filelock in /usr/local/lib/python3.10/dist-packages (from torch->torchviz) (3.16.1)\n",
            "Requirement already satisfied: typing-extensions>=4.8.0 in /usr/local/lib/python3.10/dist-packages (from torch->torchviz) (4.12.2)\n",
            "Requirement already satisfied: sympy in /usr/local/lib/python3.10/dist-packages (from torch->torchviz) (1.13.3)\n",
            "Requirement already satisfied: networkx in /usr/local/lib/python3.10/dist-packages (from torch->torchviz) (3.4)\n",
            "Requirement already satisfied: jinja2 in /usr/local/lib/python3.10/dist-packages (from torch->torchviz) (3.1.4)\n",
            "Requirement already satisfied: fsspec in /usr/local/lib/python3.10/dist-packages (from torch->torchviz) (2024.6.1)\n",
            "Requirement already satisfied: MarkupSafe>=2.0 in /usr/local/lib/python3.10/dist-packages (from jinja2->torch->torchviz) (3.0.1)\n",
            "Requirement already satisfied: mpmath<1.4,>=1.1.0 in /usr/local/lib/python3.10/dist-packages (from sympy->torch->torchviz) (1.3.0)\n",
            "Building wheels for collected packages: torchviz\n",
            "  Building wheel for torchviz (setup.py) ... \u001b[?25l\u001b[?25hdone\n",
            "  Created wheel for torchviz: filename=torchviz-0.0.2-py3-none-any.whl size=4132 sha256=deafa76806d5a597c231a7976ae41b5df7b68872d7a5f76b6ac11af313c41acf\n",
            "  Stored in directory: /root/.cache/pip/wheels/4c/97/88/a02973217949e0db0c9f4346d154085f4725f99c4f15a87094\n",
            "Successfully built torchviz\n",
            "Installing collected packages: torchviz\n",
            "Successfully installed torchviz-0.0.2\n"
          ]
        }
      ],
      "source": [
        "# Install torchviz if not installed before on your laptop\n",
        "!pip install torchviz\n",
        "\n",
        "# WARNING: You should install the graphviz package in your system (not just the python package).\n",
        "# If so, you must visit\n",
        "# https://graphviz.org/download/"
      ]
    },
    {
      "cell_type": "code",
      "execution_count": null,
      "metadata": {
        "id": "1nEbmC7TM1mw"
      },
      "outputs": [],
      "source": [
        "import torchviz"
      ]
    },
    {
      "cell_type": "markdown",
      "metadata": {
        "id": "Sl_8ex--LGGy"
      },
      "source": [
        "### Question: Give an interpretation of the information in the graph drawn in the next cell."
      ]
    },
    {
      "cell_type": "code",
      "execution_count": null,
      "metadata": {
        "id": "5Z2dMtEOMuWb",
        "colab": {
          "base_uri": "https://localhost:8080/",
          "height": 469
        },
        "outputId": "a6d26532-ad25-4cb6-c4a7-37e26ade510a"
      },
      "outputs": [
        {
          "output_type": "stream",
          "name": "stdout",
          "text": [
            "tensor([[1., 1.],\n",
            "        [1., 1.]], device='cuda:0', requires_grad=True)\n",
            "tensor([[0.8681]], device='cuda:0', requires_grad=True)\n",
            "tensor([[2.8681, 2.8681],\n",
            "        [2.8681, 2.8681]], device='cuda:0', grad_fn=<AddBackward0>)\n"
          ]
        },
        {
          "output_type": "execute_result",
          "data": {
            "image/svg+xml": "<?xml version=\"1.0\" encoding=\"UTF-8\" standalone=\"no\"?>\n<!DOCTYPE svg PUBLIC \"-//W3C//DTD SVG 1.1//EN\"\n \"http://www.w3.org/Graphics/SVG/1.1/DTD/svg11.dtd\">\n<!-- Generated by graphviz version 2.43.0 (0)\n -->\n<!-- Title: %3 Pages: 1 -->\n<svg width=\"228pt\" height=\"271pt\"\n viewBox=\"0.00 0.00 228.00 271.00\" xmlns=\"http://www.w3.org/2000/svg\" xmlns:xlink=\"http://www.w3.org/1999/xlink\">\n<g id=\"graph0\" class=\"graph\" transform=\"scale(1 1) rotate(0) translate(4 267)\">\n<title>%3</title>\n<polygon fill=\"white\" stroke=\"transparent\" points=\"-4,4 -4,-267 224,-267 224,4 -4,4\"/>\n<!-- 133189813715088 -->\n<g id=\"node1\" class=\"node\">\n<title>133189813715088</title>\n<polygon fill=\"#caff70\" stroke=\"black\" points=\"139,-31 80,-31 80,0 139,0 139,-31\"/>\n<text text-anchor=\"middle\" x=\"109.5\" y=\"-7\" font-family=\"monospace\" font-size=\"10.00\"> (2, 2)</text>\n</g>\n<!-- 133189814316016 -->\n<g id=\"node2\" class=\"node\">\n<title>133189814316016</title>\n<polygon fill=\"lightgrey\" stroke=\"black\" points=\"154,-86 65,-86 65,-67 154,-67 154,-86\"/>\n<text text-anchor=\"middle\" x=\"109.5\" y=\"-74\" font-family=\"monospace\" font-size=\"10.00\">AddBackward0</text>\n</g>\n<!-- 133189814316016&#45;&gt;133189813715088 -->\n<g id=\"edge6\" class=\"edge\">\n<title>133189814316016&#45;&gt;133189813715088</title>\n<path fill=\"none\" stroke=\"black\" d=\"M109.5,-66.79C109.5,-60.07 109.5,-50.4 109.5,-41.34\"/>\n<polygon fill=\"black\" stroke=\"black\" points=\"113,-41.19 109.5,-31.19 106,-41.19 113,-41.19\"/>\n</g>\n<!-- 133189814311456 -->\n<g id=\"node3\" class=\"node\">\n<title>133189814311456</title>\n<polygon fill=\"lightgrey\" stroke=\"black\" points=\"154,-141 65,-141 65,-122 154,-122 154,-141\"/>\n<text text-anchor=\"middle\" x=\"109.5\" y=\"-129\" font-family=\"monospace\" font-size=\"10.00\">MulBackward0</text>\n</g>\n<!-- 133189814311456&#45;&gt;133189814316016 -->\n<g id=\"edge1\" class=\"edge\">\n<title>133189814311456&#45;&gt;133189814316016</title>\n<path fill=\"none\" stroke=\"black\" d=\"M109.5,-121.75C109.5,-114.8 109.5,-104.85 109.5,-96.13\"/>\n<polygon fill=\"black\" stroke=\"black\" points=\"113,-96.09 109.5,-86.09 106,-96.09 113,-96.09\"/>\n</g>\n<!-- 133189814313088 -->\n<g id=\"node4\" class=\"node\">\n<title>133189814313088</title>\n<polygon fill=\"lightgrey\" stroke=\"black\" points=\"101,-196 0,-196 0,-177 101,-177 101,-196\"/>\n<text text-anchor=\"middle\" x=\"50.5\" y=\"-184\" font-family=\"monospace\" font-size=\"10.00\">AccumulateGrad</text>\n</g>\n<!-- 133189814313088&#45;&gt;133189814311456 -->\n<g id=\"edge2\" class=\"edge\">\n<title>133189814313088&#45;&gt;133189814311456</title>\n<path fill=\"none\" stroke=\"black\" d=\"M59.98,-176.98C68.7,-169.15 81.84,-157.34 92.4,-147.86\"/>\n<polygon fill=\"black\" stroke=\"black\" points=\"94.75,-150.46 99.85,-141.17 90.07,-145.25 94.75,-150.46\"/>\n</g>\n<!-- 133189813716448 -->\n<g id=\"node5\" class=\"node\">\n<title>133189813716448</title>\n<polygon fill=\"lightblue\" stroke=\"black\" points=\"80,-263 21,-263 21,-232 80,-232 80,-263\"/>\n<text text-anchor=\"middle\" x=\"50.5\" y=\"-239\" font-family=\"monospace\" font-size=\"10.00\"> (1, 1)</text>\n</g>\n<!-- 133189813716448&#45;&gt;133189814313088 -->\n<g id=\"edge3\" class=\"edge\">\n<title>133189813716448&#45;&gt;133189814313088</title>\n<path fill=\"none\" stroke=\"black\" d=\"M50.5,-231.92C50.5,-224.22 50.5,-214.69 50.5,-206.43\"/>\n<polygon fill=\"black\" stroke=\"black\" points=\"54,-206.25 50.5,-196.25 47,-206.25 54,-206.25\"/>\n</g>\n<!-- 133189814318608 -->\n<g id=\"node6\" class=\"node\">\n<title>133189814318608</title>\n<polygon fill=\"lightgrey\" stroke=\"black\" points=\"220,-196 119,-196 119,-177 220,-177 220,-196\"/>\n<text text-anchor=\"middle\" x=\"169.5\" y=\"-184\" font-family=\"monospace\" font-size=\"10.00\">AccumulateGrad</text>\n</g>\n<!-- 133189814318608&#45;&gt;133189814311456 -->\n<g id=\"edge4\" class=\"edge\">\n<title>133189814318608&#45;&gt;133189814311456</title>\n<path fill=\"none\" stroke=\"black\" d=\"M159.86,-176.98C150.99,-169.15 137.63,-157.34 126.89,-147.86\"/>\n<polygon fill=\"black\" stroke=\"black\" points=\"129.13,-145.17 119.32,-141.17 124.49,-150.41 129.13,-145.17\"/>\n</g>\n<!-- 133189813726288 -->\n<g id=\"node7\" class=\"node\">\n<title>133189813726288</title>\n<polygon fill=\"lightblue\" stroke=\"black\" points=\"199,-263 140,-263 140,-232 199,-232 199,-263\"/>\n<text text-anchor=\"middle\" x=\"169.5\" y=\"-239\" font-family=\"monospace\" font-size=\"10.00\"> (2, 2)</text>\n</g>\n<!-- 133189813726288&#45;&gt;133189814318608 -->\n<g id=\"edge5\" class=\"edge\">\n<title>133189813726288&#45;&gt;133189814318608</title>\n<path fill=\"none\" stroke=\"black\" d=\"M169.5,-231.92C169.5,-224.22 169.5,-214.69 169.5,-206.43\"/>\n<polygon fill=\"black\" stroke=\"black\" points=\"173,-206.25 169.5,-196.25 166,-206.25 173,-206.25\"/>\n</g>\n</g>\n</svg>\n",
            "text/plain": [
              "<graphviz.graphs.Digraph at 0x7922ab91ec20>"
            ]
          },
          "metadata": {},
          "execution_count": 102
        }
      ],
      "source": [
        "x = torch.ones(2, 2, requires_grad=True)\n",
        "w = torch.rand(1, 1, requires_grad=True)\n",
        "print(x)\n",
        "print(w)\n",
        "y = w * x + 2\n",
        "print(y)\n",
        "torchviz.make_dot(y)"
      ]
    },
    {
      "cell_type": "markdown",
      "metadata": {
        "id": "AsKmpu9WJgdy"
      },
      "source": [
        "## Create your first neural network (with random parameters)"
      ]
    },
    {
      "cell_type": "code",
      "execution_count": null,
      "metadata": {
        "id": "XZ3YcUCaJgdy"
      },
      "outputs": [],
      "source": [
        "import torch\n",
        "import torch.nn as nn\n",
        "import torch.nn.functional as F"
      ]
    },
    {
      "cell_type": "markdown",
      "metadata": {
        "id": "psfNXuxMJgd0"
      },
      "source": [
        "Let's define the neural network model as a class"
      ]
    },
    {
      "cell_type": "code",
      "execution_count": null,
      "metadata": {
        "id": "YkwqeCOEJgd0"
      },
      "outputs": [],
      "source": [
        "class Net(nn.Module):\n",
        "    def __init__(self):\n",
        "      super(Net, self).__init__()\n",
        "      self.fc1 = nn.Linear(20, 10)\n",
        "      self.fc2 = nn.Linear(10, 4)\n",
        "\n",
        "    # x represents our input data\n",
        "    def forward(self, x):\n",
        "      # Pass data through fc1\n",
        "      x = self.fc1(x)\n",
        "      x = F.relu(x)\n",
        "      x = self.fc2(x)\n",
        "\n",
        "      # Apply softmax to x\n",
        "      output = F.softmax(x, dim=1)\n",
        "      return output"
      ]
    },
    {
      "cell_type": "markdown",
      "metadata": {
        "id": "63yr0-OnJgd2"
      },
      "source": [
        "Let’s instantiate the neural network model"
      ]
    },
    {
      "cell_type": "code",
      "execution_count": null,
      "metadata": {
        "id": "4EHGce4iJgd3"
      },
      "outputs": [],
      "source": [
        "my_nn = Net()"
      ]
    },
    {
      "cell_type": "markdown",
      "metadata": {
        "id": "y2GD_KIBUTgS"
      },
      "source": [
        "### Question: test the model by passing some random data through it (3 random vectors following a normal distribution)\n",
        "\n",
        "Hint: you can look at https://pytorch.org/tutorials/recipes/recipes/defining_a_neural_network.html"
      ]
    },
    {
      "cell_type": "code",
      "execution_count": null,
      "metadata": {
        "id": "zADMlk1oJgd5"
      },
      "outputs": [],
      "source": [
        "# Code here"
      ]
    },
    {
      "cell_type": "markdown",
      "metadata": {
        "id": "GyHdjfniJ0QO"
      },
      "source": [
        "### Question: print the computational graph of the neural network with the names of the parameters."
      ]
    },
    {
      "cell_type": "code",
      "execution_count": null,
      "metadata": {
        "id": "UWc3OhaqJtn7"
      },
      "outputs": [],
      "source": [
        "# Code here"
      ]
    },
    {
      "cell_type": "markdown",
      "metadata": {
        "id": "zoFY0CMvJgd7"
      },
      "source": [
        "### Question: Verify the sum of each output. How to interpret the output?"
      ]
    },
    {
      "cell_type": "code",
      "execution_count": null,
      "metadata": {
        "id": "oSfMUonxJgd8"
      },
      "outputs": [],
      "source": [
        "# Code here"
      ]
    }
  ],
  "metadata": {
    "colab": {
      "provenance": [],
      "gpuType": "T4",
      "include_colab_link": true
    },
    "kernelspec": {
      "display_name": "Python 3 (ipykernel)",
      "name": "python3",
      "language": "python"
    },
    "language_info": {
      "codemirror_mode": {
        "name": "ipython",
        "version": 3
      },
      "file_extension": ".py",
      "mimetype": "text/x-python",
      "name": "python",
      "nbconvert_exporter": "python",
      "pygments_lexer": "ipython3",
      "version": "3.10.9"
    },
    "accelerator": "GPU"
  },
  "nbformat": 4,
  "nbformat_minor": 0
}