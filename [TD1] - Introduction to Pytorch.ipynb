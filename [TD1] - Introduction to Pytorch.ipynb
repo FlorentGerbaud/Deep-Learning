{
  "cells": [
    {
      "cell_type": "markdown",
      "metadata": {
        "id": "view-in-github",
        "colab_type": "text"
      },
      "source": [
        "<a href=\"https://colab.research.google.com/github/FlorentGerbaud/Deep-Learning/blob/main/%5BTD1%5D%20-%20Introduction%20to%20Pytorch.ipynb\" target=\"_parent\"><img src=\"https://colab.research.google.com/assets/colab-badge.svg\" alt=\"Open In Colab\"/></a>"
      ]
    },
    {
      "cell_type": "markdown",
      "metadata": {
        "id": "iogTCNRqJgcK"
      },
      "source": [
        "# Lab 1: Torch basics\n",
        "# The goal of this lab is to discover Pytorch, especially the Tensor concept.\n"
      ]
    },
    {
      "cell_type": "code",
      "metadata": {
        "id": "Pe1KgPFqgC9m",
        "colab": {
          "base_uri": "https://localhost:8080/",
          "height": 35
        },
        "outputId": "dd5b686f-c861-4318-cb55-4c3ad9537729",
        "ExecuteTime": {
          "end_time": "2024-10-17T16:41:08.413464Z",
          "start_time": "2024-10-17T16:41:08.409511Z"
        }
      },
      "source": [
        "torch.__version__"
      ],
      "outputs": [
        {
          "output_type": "execute_result",
          "data": {
            "text/plain": [
              "'2.4.1+cu121'"
            ],
            "application/vnd.google.colaboratory.intrinsic+json": {
              "type": "string"
            }
          },
          "metadata": {},
          "execution_count": 4
        }
      ],
      "execution_count": 4
    },
    {
      "cell_type": "code",
      "metadata": {
        "id": "Hh6cps5cgC9g",
        "ExecuteTime": {
          "end_time": "2024-10-17T16:41:14.686624Z",
          "start_time": "2024-10-17T16:41:14.681505Z"
        }
      },
      "source": [
        "import matplotlib.pyplot as plt\n",
        "%matplotlib inline\n",
        "import torch\n",
        "import numpy as np"
      ],
      "outputs": [],
      "execution_count": 3
    },
    {
      "cell_type": "markdown",
      "metadata": {
        "id": "lMn2UjdXgC9r"
      },
      "source": [
        "Largely inspired from the tutorial [What is PyTorch?](https://pytorch.org/tutorials/beginner/former_torchies/tensor_tutorial.html)\n",
        "\n",
        "Tensors are used to encode the signal to process, but also the internal states and parameters of models.\n",
        "\n",
        "Manipulating data through this constrained structure allows to use CPUs and GPUs at peak performance.\n",
        "\n"
      ]
    },
    {
      "cell_type": "markdown",
      "metadata": {
        "id": "loUAlh7dyVpN"
      },
      "source": [
        "## Tensors"
      ]
    },
    {
      "cell_type": "markdown",
      "metadata": {
        "id": "hlUFi857xt6Q"
      },
      "source": [
        "Construct a 3x5 matrix, uninitialized:"
      ]
    },
    {
      "cell_type": "code",
      "metadata": {
        "id": "2kLcNt8IgC9r",
        "colab": {
          "base_uri": "https://localhost:8080/"
        },
        "outputId": "ae3408f2-7279-48b4-b5ab-b5290976b631",
        "ExecuteTime": {
          "end_time": "2024-10-17T16:45:43.216108Z",
          "start_time": "2024-10-17T16:45:43.212181Z"
        }
      },
      "source": [
        "# Set the default floating point dtype to float32\n",
        "torch.set_default_dtype(torch.float32)\n",
        "\n",
        "# Optional: Set the default device to 'cuda' if available, otherwise 'cpu'\n",
        "device = 'cuda' if torch.cuda.is_available() else 'cpu'\n",
        "torch.set_default_device(device)\n",
        "print(device)"
      ],
      "outputs": [
        {
          "output_type": "stream",
          "name": "stdout",
          "text": [
            "cuda\n"
          ]
        }
      ],
      "execution_count": 5
    },
    {
      "cell_type": "code",
      "execution_count": 6,
      "metadata": {
        "id": "RjUhHCJMgC9u",
        "colab": {
          "base_uri": "https://localhost:8080/"
        },
        "outputId": "ad6207e8-3121-41dd-deb4-5a298d7ffc61"
      },
      "outputs": [
        {
          "output_type": "stream",
          "name": "stdout",
          "text": [
            "torch.cuda.FloatTensor\n",
            "tensor([[0., 0., 0., 0., 0.],\n",
            "        [0., 0., 0., 0., 0.],\n",
            "        [0., 0., 0., 0., 0.]], device='cuda:0')\n"
          ]
        }
      ],
      "source": [
        "x = torch.empty(3,5)\n",
        "print(x.type())\n",
        "print(x)"
      ]
    },
    {
      "cell_type": "code",
      "execution_count": 7,
      "metadata": {
        "id": "MnRsrLh5gC9w",
        "colab": {
          "base_uri": "https://localhost:8080/"
        },
        "outputId": "cb886fb5-e811-420e-ce96-8bc327952b14"
      },
      "outputs": [
        {
          "output_type": "stream",
          "name": "stdout",
          "text": [
            "tensor([[-1.6264, -2.0400,  0.9369,  1.0051, -1.0654],\n",
            "        [ 0.0082, -0.3993,  0.7165,  1.0749,  0.1928],\n",
            "        [-2.0833, -0.2793, -0.1986, -0.1956, -0.2467]], device='cuda:0')\n"
          ]
        }
      ],
      "source": [
        "x = torch.randn(3,5)\n",
        "print(x)"
      ]
    },
    {
      "cell_type": "code",
      "execution_count": null,
      "metadata": {
        "id": "lfgpO7kUgC9z",
        "colab": {
          "base_uri": "https://localhost:8080/"
        },
        "outputId": "77711cad-4c4e-4abc-e52d-09270867efb1"
      },
      "outputs": [
        {
          "output_type": "stream",
          "name": "stdout",
          "text": [
            "torch.Size([3, 5])\n"
          ]
        }
      ],
      "source": [
        "print(x.size())"
      ]
    },
    {
      "cell_type": "markdown",
      "metadata": {
        "id": "NNLzvVKigC92"
      },
      "source": [
        "torch.Size is in fact a [tuple](https://docs.python.org/3/tutorial/datastructures.html#tuples-and-sequences), so it supports the same operations."
      ]
    },
    {
      "cell_type": "code",
      "execution_count": null,
      "metadata": {
        "id": "W-o3sFH3gC92",
        "colab": {
          "base_uri": "https://localhost:8080/"
        },
        "outputId": "01571bfb-a749-4526-ed3f-cb50f6d4ee8b"
      },
      "outputs": [
        {
          "output_type": "execute_result",
          "data": {
            "text/plain": [
              "5"
            ]
          },
          "metadata": {},
          "execution_count": 7
        }
      ],
      "source": [
        "x.size()[1]"
      ]
    },
    {
      "cell_type": "code",
      "execution_count": null,
      "metadata": {
        "id": "LkQAasgtgC95",
        "colab": {
          "base_uri": "https://localhost:8080/"
        },
        "outputId": "5532a7a2-b9a0-4a82-cc06-247979866b78"
      },
      "outputs": [
        {
          "output_type": "execute_result",
          "data": {
            "text/plain": [
              "True"
            ]
          },
          "metadata": {},
          "execution_count": 8
        }
      ],
      "source": [
        "x.size() == (3,5)"
      ]
    },
    {
      "cell_type": "markdown",
      "metadata": {
        "id": "GDufwT0Kstxv"
      },
      "source": [
        "Importance of the brackets when defining a tensor"
      ]
    },
    {
      "cell_type": "code",
      "execution_count": null,
      "metadata": {
        "id": "wa9IPaaqsaPg",
        "colab": {
          "base_uri": "https://localhost:8080/"
        },
        "outputId": "9c5ba8c5-76fe-479d-e27b-c5a220b5e789"
      },
      "outputs": [
        {
          "output_type": "stream",
          "name": "stdout",
          "text": [
            "<class 'torch.Tensor'>\n",
            "torch.float32\n",
            "torch.Size([1])\n",
            "<class 'torch.Tensor'>\n",
            "torch.float32\n",
            "torch.Size([])\n"
          ]
        }
      ],
      "source": [
        "a = torch.tensor([2.0])\n",
        "print(type(a))\n",
        "print(a.dtype)\n",
        "print(a.size())\n",
        "\n",
        "b = torch.tensor(2.0)\n",
        "print(type(b))\n",
        "print(b.dtype)\n",
        "print(b.size())"
      ]
    },
    {
      "cell_type": "markdown",
      "metadata": {
        "id": "XeAg1TcMhyf4"
      },
      "source": [
        "Select some columns"
      ]
    },
    {
      "cell_type": "code",
      "execution_count": null,
      "metadata": {
        "id": "DZaC-fXlgY6G",
        "colab": {
          "base_uri": "https://localhost:8080/"
        },
        "outputId": "f03760f9-9893-437e-90b0-09b7aab388bb"
      },
      "outputs": [
        {
          "output_type": "stream",
          "name": "stdout",
          "text": [
            "tensor([False, False, False, False, False])\n",
            "tensor([False,  True, False, False,  True])\n",
            "tensor([[-1.0853,  0.7575],\n",
            "        [ 0.8747, -1.3225],\n",
            "        [-1.8220, -0.5641]])\n"
          ]
        }
      ],
      "source": [
        "cols = torch.zeros(5, dtype=torch.bool)\n",
        "print(cols)\n",
        "cols[1] = True\n",
        "cols[4] = True\n",
        "print(cols)\n",
        "c = x[:, cols]  # selects all rows, 2nd column and  5th column from x\n",
        "print(c)"
      ]
    },
    {
      "cell_type": "markdown",
      "metadata": {
        "id": "t9v3syrRf-13"
      },
      "source": [
        "All operations on the tensor that operate in-place on it will have an _ postfix."
      ]
    },
    {
      "cell_type": "code",
      "execution_count": null,
      "metadata": {
        "id": "zr3PP5oVf1SV",
        "colab": {
          "base_uri": "https://localhost:8080/"
        },
        "outputId": "f9702c04-5445-46db-fced-881776fb639d"
      },
      "outputs": [
        {
          "output_type": "stream",
          "name": "stdout",
          "text": [
            "tensor([[3.5000, 3.5000, 3.5000, 3.5000, 3.5000],\n",
            "        [3.5000, 3.5000, 3.5000, 3.5000, 3.5000],\n",
            "        [3.5000, 3.5000, 3.5000, 3.5000, 3.5000]])\n"
          ]
        }
      ],
      "source": [
        "# x will be filled with the value 3.5\n",
        "x.fill_(3.5)\n",
        "print(x)"
      ]
    },
    {
      "cell_type": "markdown",
      "metadata": {
        "id": "SXPtlUXsgC96"
      },
      "source": [
        "## Bridge to numpy"
      ]
    },
    {
      "cell_type": "code",
      "execution_count": null,
      "metadata": {
        "id": "61srdUzCgC97",
        "colab": {
          "base_uri": "https://localhost:8080/"
        },
        "outputId": "936a94e0-6733-49ad-b3d2-853945282caa"
      },
      "outputs": [
        {
          "output_type": "stream",
          "name": "stdout",
          "text": [
            "[[3.5 3.5 3.5 3.5 3.5]\n",
            " [3.5 3.5 3.5 3.5 3.5]\n",
            " [3.5 3.5 3.5 3.5 3.5]]\n"
          ]
        }
      ],
      "source": [
        "y = x.numpy()\n",
        "print(y)"
      ]
    },
    {
      "cell_type": "code",
      "execution_count": null,
      "metadata": {
        "id": "tFv5BzYsgC99",
        "colab": {
          "base_uri": "https://localhost:8080/"
        },
        "outputId": "48bb0b9a-a1d1-4eec-8d2c-900c5058f97c"
      },
      "outputs": [
        {
          "output_type": "stream",
          "name": "stdout",
          "text": [
            "tensor([1., 1., 1., 1., 1.], dtype=torch.float64)\n"
          ]
        }
      ],
      "source": [
        "a = np.ones(5)\n",
        "b = torch.from_numpy(a)\n",
        "print(b)\n"
      ]
    },
    {
      "cell_type": "code",
      "execution_count": null,
      "metadata": {
        "id": "lfpk2tfpgC9-",
        "colab": {
          "base_uri": "https://localhost:8080/"
        },
        "outputId": "4bfbe8c9-7e21-4d1a-de58-b4653f97ab84"
      },
      "outputs": [
        {
          "output_type": "stream",
          "name": "stdout",
          "text": [
            "tensor([[ 0.3932,  0.9812,  0.3740,  0.5793,  1.1193],\n",
            "        [-0.1201, -1.2035, -1.5816,  0.1446, -1.1582],\n",
            "        [-0.4286, -0.6194, -0.0633, -0.9866, -0.5791]])\n",
            "tensor([1, 1, 1, 1, 1])\n"
          ]
        }
      ],
      "source": [
        "xr = torch.randn(3, 5)\n",
        "a = np.ones(5).astype(int)\n",
        "b = torch.from_numpy(a)\n",
        "print(xr)\n",
        "print(b)"
      ]
    },
    {
      "cell_type": "markdown",
      "metadata": {
        "id": "C6sKTTlZ0RmP"
      },
      "source": [
        "### Question: print the type of the content (data) of variables a, b and xr"
      ]
    },
    {
      "cell_type": "code",
      "execution_count": null,
      "metadata": {
        "id": "k07dBWLRxARt",
        "colab": {
          "base_uri": "https://localhost:8080/"
        },
        "outputId": "d493446c-408b-42ad-f2b0-e4eb6678fdbd"
      },
      "outputs": [
        {
          "output_type": "stream",
          "name": "stdout",
          "text": [
            "int64\n",
            "torch.int64\n",
            "torch.float32\n"
          ]
        }
      ],
      "source": [
        "# Code here\n",
        "print(a.dtype)\n",
        "print(b.dtype)\n",
        "print(xr.dtype)"
      ]
    },
    {
      "cell_type": "markdown",
      "metadata": {
        "id": "7fwWdAYjUuiN"
      },
      "source": [
        "## Operations\n",
        "\n",
        "There are multiple syntaxes for operations. In the following\n",
        "example, we will take a look at the addition operation.\n",
        "\n",
        "Addition: syntax 1"
      ]
    },
    {
      "cell_type": "code",
      "execution_count": null,
      "metadata": {
        "id": "4iASmmTAUxG0",
        "colab": {
          "base_uri": "https://localhost:8080/"
        },
        "outputId": "dc34db78-735c-4bf8-a338-554598f36dae"
      },
      "outputs": [
        {
          "output_type": "stream",
          "name": "stdout",
          "text": [
            "tensor([[0.7365, 0.6460, 1.3457],\n",
            "        [1.3899, 1.3720, 1.2398],\n",
            "        [1.2975, 0.9966, 1.0510],\n",
            "        [0.3478, 0.7811, 1.1002],\n",
            "        [0.9447, 1.2892, 0.9069]])\n"
          ]
        }
      ],
      "source": [
        "x = torch.rand(5, 3)\n",
        "y = torch.rand(5, 3)\n",
        "print(x + y)"
      ]
    },
    {
      "cell_type": "markdown",
      "metadata": {
        "id": "H5NxjdPhVQP8"
      },
      "source": [
        "Addition: syntax 2"
      ]
    },
    {
      "cell_type": "code",
      "execution_count": null,
      "metadata": {
        "id": "GwCo8DOcVRHq",
        "colab": {
          "base_uri": "https://localhost:8080/"
        },
        "outputId": "f68e72c8-d233-455e-faa6-cefcc4779ad6"
      },
      "outputs": [
        {
          "output_type": "stream",
          "name": "stdout",
          "text": [
            "tensor([[0.7365, 0.6460, 1.3457],\n",
            "        [1.3899, 1.3720, 1.2398],\n",
            "        [1.2975, 0.9966, 1.0510],\n",
            "        [0.3478, 0.7811, 1.1002],\n",
            "        [0.9447, 1.2892, 0.9069]])\n"
          ]
        }
      ],
      "source": [
        "print(torch.add(x, y))"
      ]
    },
    {
      "cell_type": "markdown",
      "metadata": {
        "id": "wNuL3H61VZvS"
      },
      "source": [
        "Addition: providing an output tensor as argument"
      ]
    },
    {
      "cell_type": "code",
      "execution_count": null,
      "metadata": {
        "id": "hX1ffSunVail",
        "colab": {
          "base_uri": "https://localhost:8080/"
        },
        "outputId": "5383b6d0-d6ad-410a-cc39-af6e4ab5a891"
      },
      "outputs": [
        {
          "output_type": "stream",
          "name": "stdout",
          "text": [
            "tensor([[0.7365, 0.6460, 1.3457],\n",
            "        [1.3899, 1.3720, 1.2398],\n",
            "        [1.2975, 0.9966, 1.0510],\n",
            "        [0.3478, 0.7811, 1.1002],\n",
            "        [0.9447, 1.2892, 0.9069]])\n"
          ]
        }
      ],
      "source": [
        "result = torch.empty(5, 3)\n",
        "torch.add(x, y, out=result)\n",
        "print(result)"
      ]
    },
    {
      "cell_type": "markdown",
      "metadata": {
        "id": "-VK0_f0rVejB"
      },
      "source": [
        "Addition: in-place"
      ]
    },
    {
      "cell_type": "code",
      "execution_count": null,
      "metadata": {
        "id": "rj0GKMgSVlGV",
        "colab": {
          "base_uri": "https://localhost:8080/"
        },
        "outputId": "0d5358ff-fa05-4ce8-c46e-8160119190f1"
      },
      "outputs": [
        {
          "output_type": "stream",
          "name": "stdout",
          "text": [
            "tensor([[0.7365, 0.6460, 1.3457],\n",
            "        [1.3899, 1.3720, 1.2398],\n",
            "        [1.2975, 0.9966, 1.0510],\n",
            "        [0.3478, 0.7811, 1.1002],\n",
            "        [0.9447, 1.2892, 0.9069]])\n"
          ]
        }
      ],
      "source": [
        "# adds x to y\n",
        "y.add_(x)\n",
        "print(y)"
      ]
    },
    {
      "cell_type": "markdown",
      "metadata": {
        "id": "EgNBadgeVscS"
      },
      "source": [
        "**Note:** Any operation that mutates a tensor in-place is post-fixed with an ``_``.\n",
        "    For example: ``x.copy_(y)``, ``x.t_()``, will change ``x``.\n",
        "\n"
      ]
    },
    {
      "cell_type": "markdown",
      "metadata": {
        "id": "kOPtMoOkgC-G"
      },
      "source": [
        "Any operation that mutates a tensor in-place is post-fixed with an ```_```\n",
        "\n",
        "For example: ```x.copy_(y)```, ```x.t_()```, will change ```x```."
      ]
    },
    {
      "cell_type": "code",
      "execution_count": null,
      "metadata": {
        "id": "hrOV0mQIgC-G",
        "colab": {
          "base_uri": "https://localhost:8080/"
        },
        "outputId": "35d94d6f-557f-410b-ed93-44ed018b4b72"
      },
      "outputs": [
        {
          "output_type": "stream",
          "name": "stdout",
          "text": [
            "tensor([[0.7008, 0.8167, 0.4741, 0.0446, 0.6997],\n",
            "        [0.4024, 0.8321, 0.5033, 0.0141, 0.6986],\n",
            "        [0.5622, 0.6751, 0.7587, 0.7399, 0.4198]])\n"
          ]
        }
      ],
      "source": [
        "print(x.t())"
      ]
    },
    {
      "cell_type": "code",
      "execution_count": null,
      "metadata": {
        "id": "LfNnD4vSgC-H",
        "colab": {
          "base_uri": "https://localhost:8080/"
        },
        "outputId": "5ef3f2c8-3543-4a0d-c058-b0323da5f913"
      },
      "outputs": [
        {
          "output_type": "stream",
          "name": "stdout",
          "text": [
            "tensor([[0.7008, 0.4024, 0.5622],\n",
            "        [0.8167, 0.8321, 0.6751],\n",
            "        [0.4741, 0.5033, 0.7587],\n",
            "        [0.0446, 0.0141, 0.7399],\n",
            "        [0.6997, 0.6986, 0.4198]])\n"
          ]
        }
      ],
      "source": [
        "print(x)"
      ]
    },
    {
      "cell_type": "code",
      "execution_count": null,
      "metadata": {
        "id": "5YdHeI8lgC-I",
        "colab": {
          "base_uri": "https://localhost:8080/"
        },
        "outputId": "07747935-d5cc-43ed-b4b4-421037b27217"
      },
      "outputs": [
        {
          "output_type": "stream",
          "name": "stdout",
          "text": [
            "tensor([[0.7008, 0.8167, 0.4741, 0.0446, 0.6997],\n",
            "        [0.4024, 0.8321, 0.5033, 0.0141, 0.6986],\n",
            "        [0.5622, 0.6751, 0.7587, 0.7399, 0.4198]])\n"
          ]
        }
      ],
      "source": [
        "x.t_()\n",
        "print(x)"
      ]
    },
    {
      "cell_type": "markdown",
      "metadata": {
        "id": "UfxHIL-mWyZl"
      },
      "source": [
        "You can use standard NumPy-like indexing with all bells and whistles!"
      ]
    },
    {
      "cell_type": "code",
      "execution_count": null,
      "metadata": {
        "id": "Cz4M97B2Wtyu",
        "colab": {
          "base_uri": "https://localhost:8080/"
        },
        "outputId": "c61f1c7e-9d11-4991-b611-20aeddbd58c0"
      },
      "outputs": [
        {
          "output_type": "stream",
          "name": "stdout",
          "text": [
            "tensor([0.8167, 0.8321, 0.6751])\n"
          ]
        }
      ],
      "source": [
        "print(x[:, 1])"
      ]
    },
    {
      "cell_type": "markdown",
      "metadata": {
        "id": "M6tsVH8zW8yB"
      },
      "source": [
        "Resizing (very useful): If you want to resize/reshape tensor, you can use ``torch.view``:"
      ]
    },
    {
      "cell_type": "code",
      "execution_count": null,
      "metadata": {
        "id": "k0qjaFPDW_3I",
        "colab": {
          "base_uri": "https://localhost:8080/"
        },
        "outputId": "dc122041-75a7-4497-c30f-d07c4f0a9b3d"
      },
      "outputs": [
        {
          "output_type": "stream",
          "name": "stdout",
          "text": [
            "torch.Size([4, 4]) torch.Size([16]) torch.Size([2, 8])\n"
          ]
        }
      ],
      "source": [
        "x = torch.randn(4, 4)\n",
        "y = x.view(16)\n",
        "z = x.view(-1, 8)  # the size -1 is inferred from other dimensions\n",
        "print(x.size(), y.size(), z.size())"
      ]
    },
    {
      "cell_type": "markdown",
      "metadata": {
        "id": "fP8sTTCgXRak"
      },
      "source": [
        "If you have a one element tensor, use ``.item()`` to get the value as a\n",
        "Python number"
      ]
    },
    {
      "cell_type": "code",
      "execution_count": null,
      "metadata": {
        "id": "zaG9x6SHXSPw",
        "colab": {
          "base_uri": "https://localhost:8080/"
        },
        "outputId": "8b257f6d-6a23-4e13-ad7a-0b9ed98bcccd"
      },
      "outputs": [
        {
          "output_type": "stream",
          "name": "stdout",
          "text": [
            "tensor([1.0008])\n",
            "1.0007741451263428\n"
          ]
        }
      ],
      "source": [
        "x = torch.randn(1)\n",
        "print(x)\n",
        "print(x.item())"
      ]
    },
    {
      "cell_type": "markdown",
      "metadata": {
        "id": "mqCvPrp-XmZQ"
      },
      "source": [
        "**Read later:**\n",
        "\n",
        "\n",
        "  100+ Tensor operations, including transposing, indexing, slicing,\n",
        "  mathematical operations, linear algebra, random numbers, etc.,\n",
        "  are described\n",
        "  [here](https://pytorch.org/docs/torch)."
      ]
    },
    {
      "cell_type": "markdown",
      "metadata": {
        "id": "8Jk-JGYpeCNz"
      },
      "source": [
        "## 3D Tensors"
      ]
    },
    {
      "cell_type": "markdown",
      "metadata": {
        "id": "RTGbU2E-eLWF"
      },
      "source": [
        "### Question: What is the size of the following tensor?"
      ]
    },
    {
      "cell_type": "code",
      "execution_count": null,
      "metadata": {
        "id": "d-Dg4nyOeD4f",
        "colab": {
          "base_uri": "https://localhost:8080/"
        },
        "outputId": "fd035d77-5b16-4632-a020-7118fae2e1b4"
      },
      "outputs": [
        {
          "output_type": "stream",
          "name": "stdout",
          "text": [
            "tensor([[[1, 2, 3],\n",
            "         [4, 5, 6]],\n",
            "\n",
            "        [[1, 2, 3],\n",
            "         [4, 5, 6]],\n",
            "\n",
            "        [[1, 2, 3],\n",
            "         [4, 5, 6]]])\n"
          ]
        }
      ],
      "source": [
        "y = torch.tensor([\n",
        "     [\n",
        "       [1, 2, 3],\n",
        "       [4, 5, 6]\n",
        "     ],\n",
        "     [\n",
        "       [1, 2, 3],\n",
        "       [4, 5, 6]\n",
        "     ],\n",
        "     [\n",
        "       [1, 2, 3],\n",
        "       [4, 5, 6]\n",
        "     ]\n",
        "   ])\n",
        "print(y)"
      ]
    },
    {
      "cell_type": "code",
      "execution_count": null,
      "metadata": {
        "id": "2gBU82BTe0_y"
      },
      "outputs": [],
      "source": [
        "# Code here"
      ]
    },
    {
      "cell_type": "markdown",
      "metadata": {
        "id": "dOUGbVEUe9DC"
      },
      "source": [
        "### Question: Explain the result of the next cell"
      ]
    },
    {
      "cell_type": "code",
      "execution_count": null,
      "metadata": {
        "id": "14O04VMTe9eg",
        "colab": {
          "base_uri": "https://localhost:8080/"
        },
        "outputId": "f150eff9-312f-4756-b038-b4d919bdd543"
      },
      "outputs": [
        {
          "output_type": "execute_result",
          "data": {
            "text/plain": [
              "tensor([[ 3,  6,  9],\n",
              "        [12, 15, 18]])"
            ]
          },
          "metadata": {},
          "execution_count": 28
        }
      ],
      "source": [
        "torch.sum(y, dim=0)"
      ]
    },
    {
      "cell_type": "markdown",
      "metadata": {
        "id": "Ev68h5j1ZUNH"
      },
      "source": [
        "## Broadcasting semantics\n",
        "\n",
        "In short, if a PyTorch operation supports broadcast, then its Tensor arguments can be automatically expanded to be of equal sizes (without making copies of the data).\n",
        "\n",
        "Two tensors are “broadcastable” if the following rules hold:\n",
        "\n",
        "*   Each tensor has at least one dimension.\n",
        "*   When iterating over the dimension sizes, **starting at the trailing dimension**, the dimension sizes must either be equal, one of them is 1, or one of them does not exist.\n",
        "\n",
        "If two tensors x, y are “broadcastable”, the resulting tensor size is calculated as follows:\n",
        "* If the number of dimensions of x and y are not equal, prepend 1 to the dimensions of the tensor with fewer dimensions to make them equal length.\n",
        "* Then, for each dimension size, the resulting dimension size is the max of the sizes of x and y along that dimension.\n",
        "\n",
        "More details [here](https://pytorch.org/docs/stable/notes/broadcasting.html)\n",
        "\n"
      ]
    },
    {
      "cell_type": "code",
      "execution_count": null,
      "metadata": {
        "id": "P3f9hXLxZXQa",
        "colab": {
          "base_uri": "https://localhost:8080/"
        },
        "outputId": "f370ac66-a4ed-4d20-d7c4-457704fef49a"
      },
      "outputs": [
        {
          "output_type": "stream",
          "name": "stdout",
          "text": [
            "torch.Size([5, 3, 4, 1])\n"
          ]
        }
      ],
      "source": [
        "# can line up trailing dimensions to make reading easier\n",
        "x=torch.empty(5,1,4,1)\n",
        "y=torch.empty(  3,1,1)\n",
        "print((x+y).size())\n"
      ]
    },
    {
      "cell_type": "code",
      "execution_count": null,
      "metadata": {
        "id": "LsYo7aBqaJ5F",
        "colab": {
          "base_uri": "https://localhost:8080/"
        },
        "outputId": "01b87cbe-a8ed-4c9a-f813-9166a6b0360b"
      },
      "outputs": [
        {
          "output_type": "stream",
          "name": "stdout",
          "text": [
            "torch.Size([3, 1, 7])\n"
          ]
        }
      ],
      "source": [
        "# but not necessary:\n",
        "x=torch.empty(1)\n",
        "y=torch.empty(3,1,7)\n",
        "print((x+y).size())\n",
        "\n"
      ]
    },
    {
      "cell_type": "markdown",
      "metadata": {
        "id": "0n_Y_hY6fxeL"
      },
      "source": [
        "### Question: The following command does not work. Why?\n",
        "\n"
      ]
    },
    {
      "cell_type": "code",
      "execution_count": null,
      "metadata": {
        "id": "Vq3SqanjaO6U"
      },
      "outputs": [],
      "source": [
        "x=torch.empty(5,2,4,1)\n",
        "y=torch.empty(  3,1,1)\n",
        "print((x+y).size())\n"
      ]
    },
    {
      "cell_type": "code",
      "execution_count": null,
      "metadata": {
        "id": "ha4-WRJ0g4l9"
      },
      "outputs": [],
      "source": [
        "x=2*torch.ones(  2,4)\n",
        "y=torch.ones(3,2,4)\n",
        "print(x+y)"
      ]
    },
    {
      "cell_type": "markdown",
      "metadata": {
        "id": "Afol8pk8VPUn"
      },
      "source": [
        "### Question: What is the diffence between \"x = xr\" and \"x = xr.clone()\"?"
      ]
    },
    {
      "cell_type": "code",
      "execution_count": null,
      "metadata": {
        "id": "ROIvJcOngC-E"
      },
      "outputs": [],
      "source": [
        "x = xr.clone()\n",
        "x.add_(-xr)\n",
        "print(x)\n",
        "print(xr)"
      ]
    },
    {
      "cell_type": "markdown",
      "metadata": {
        "id": "UWxZLzMrgC-J"
      },
      "source": [
        "Also be careful, changing the torch tensor modify the numpy array and vice-versa..."
      ]
    },
    {
      "cell_type": "code",
      "execution_count": null,
      "metadata": {
        "id": "lkcW43iugC-J"
      },
      "outputs": [],
      "source": [
        "y=torch.ones(2,4)\n",
        "print(y)\n",
        "z = y.numpy()\n",
        "print(z)"
      ]
    },
    {
      "cell_type": "code",
      "execution_count": null,
      "metadata": {
        "id": "qvRrtvz1gC-K"
      },
      "outputs": [],
      "source": [
        "np.add(z, 1, out=z)\n",
        "print(\"z=\", z)\n",
        "print(\"y=\", y,\"\\n\")\n",
        "torch.add(y, -4, out=y)\n",
        "print(\"z=\",z)\n",
        "print(\"y=\",y)"
      ]
    },
    {
      "cell_type": "markdown",
      "metadata": {
        "id": "AmGizC3pMbm8"
      },
      "source": [
        "## Computational graphs"
      ]
    },
    {
      "cell_type": "code",
      "execution_count": null,
      "metadata": {
        "id": "O5Kw7MQpMxWB"
      },
      "outputs": [],
      "source": [
        "import matplotlib.pyplot as plt\n",
        "%matplotlib inline\n",
        "import torch"
      ]
    },
    {
      "cell_type": "code",
      "execution_count": null,
      "metadata": {
        "id": "2Gza10WeM10G"
      },
      "outputs": [],
      "source": [
        "# Install torchviz if not installed before on your laptop\n",
        "# !pip install torchviz\n",
        "\n",
        "# WARNING: You should install the graphviz package in your system (not just the python package).\n",
        "# If so, you must visit\n",
        "# https://graphviz.org/download/"
      ]
    },
    {
      "cell_type": "code",
      "execution_count": null,
      "metadata": {
        "id": "1nEbmC7TM1mw",
        "colab": {
          "base_uri": "https://localhost:8080/",
          "height": 315
        },
        "outputId": "65d31738-f41a-47d1-f3c2-b498748d03c4"
      },
      "outputs": [
        {
          "output_type": "error",
          "ename": "ModuleNotFoundError",
          "evalue": "No module named 'torchviz'",
          "traceback": [
            "\u001b[0;31m---------------------------------------------------------------------------\u001b[0m",
            "\u001b[0;31mModuleNotFoundError\u001b[0m                       Traceback (most recent call last)",
            "\u001b[0;32m<ipython-input-35-bedf371e949f>\u001b[0m in \u001b[0;36m<cell line: 1>\u001b[0;34m()\u001b[0m\n\u001b[0;32m----> 1\u001b[0;31m \u001b[0;32mimport\u001b[0m \u001b[0mtorchviz\u001b[0m\u001b[0;34m\u001b[0m\u001b[0;34m\u001b[0m\u001b[0m\n\u001b[0m",
            "\u001b[0;31mModuleNotFoundError\u001b[0m: No module named 'torchviz'",
            "",
            "\u001b[0;31m---------------------------------------------------------------------------\u001b[0;32m\nNOTE: If your import is failing due to a missing package, you can\nmanually install dependencies using either !pip or !apt.\n\nTo view examples of installing some common dependencies, click the\n\"Open Examples\" button below.\n\u001b[0;31m---------------------------------------------------------------------------\u001b[0m\n"
          ],
          "errorDetails": {
            "actions": [
              {
                "action": "open_url",
                "actionText": "Open Examples",
                "url": "/notebooks/snippets/importing_libraries.ipynb"
              }
            ]
          }
        }
      ],
      "source": [
        "import torchviz"
      ]
    },
    {
      "cell_type": "markdown",
      "metadata": {
        "id": "Sl_8ex--LGGy"
      },
      "source": [
        "### Question: Give an interpretation of the information in the graph drawn in the next cell."
      ]
    },
    {
      "cell_type": "code",
      "execution_count": null,
      "metadata": {
        "id": "5Z2dMtEOMuWb"
      },
      "outputs": [],
      "source": [
        "x = torch.ones(2, 2, requires_grad=True)\n",
        "w = torch.rand(1, 1, requires_grad=True)\n",
        "print(x)\n",
        "print(w)\n",
        "y = w * x + 2\n",
        "print(y)\n",
        "torchviz.make_dot(y)"
      ]
    },
    {
      "cell_type": "markdown",
      "metadata": {
        "id": "AsKmpu9WJgdy"
      },
      "source": [
        "## Create your first neural network (with random parameters)"
      ]
    },
    {
      "cell_type": "code",
      "execution_count": null,
      "metadata": {
        "id": "XZ3YcUCaJgdy"
      },
      "outputs": [],
      "source": [
        "import torch\n",
        "import torch.nn as nn\n",
        "import torch.nn.functional as F"
      ]
    },
    {
      "cell_type": "markdown",
      "metadata": {
        "id": "psfNXuxMJgd0"
      },
      "source": [
        "Let's define the neural network model as a class"
      ]
    },
    {
      "cell_type": "code",
      "execution_count": null,
      "metadata": {
        "id": "YkwqeCOEJgd0"
      },
      "outputs": [],
      "source": [
        "class Net(nn.Module):\n",
        "    def __init__(self):\n",
        "      super(Net, self).__init__()\n",
        "      self.fc1 = nn.Linear(20, 10)\n",
        "      self.fc2 = nn.Linear(10, 4)\n",
        "\n",
        "    # x represents our input data\n",
        "    def forward(self, x):\n",
        "      # Pass data through fc1\n",
        "      x = self.fc1(x)\n",
        "      x = F.relu(x)\n",
        "      x = self.fc2(x)\n",
        "\n",
        "      # Apply softmax to x\n",
        "      output = F.softmax(x, dim=1)\n",
        "      return output"
      ]
    },
    {
      "cell_type": "markdown",
      "metadata": {
        "id": "63yr0-OnJgd2"
      },
      "source": [
        "Let’s instantiate the neural network model"
      ]
    },
    {
      "cell_type": "code",
      "execution_count": null,
      "metadata": {
        "id": "4EHGce4iJgd3"
      },
      "outputs": [],
      "source": [
        "my_nn = Net()"
      ]
    },
    {
      "cell_type": "markdown",
      "metadata": {
        "id": "y2GD_KIBUTgS"
      },
      "source": [
        "### Question: test the model by passing some random data through it (3 random vectors following a normal distribution)\n",
        "\n",
        "Hint: you can look at https://pytorch.org/tutorials/recipes/recipes/defining_a_neural_network.html"
      ]
    },
    {
      "cell_type": "code",
      "execution_count": null,
      "metadata": {
        "id": "zADMlk1oJgd5"
      },
      "outputs": [],
      "source": [
        "# Code here"
      ]
    },
    {
      "cell_type": "markdown",
      "metadata": {
        "id": "GyHdjfniJ0QO"
      },
      "source": [
        "### Question: print the computational graph of the neural network with the names of the parameters."
      ]
    },
    {
      "cell_type": "code",
      "execution_count": null,
      "metadata": {
        "id": "UWc3OhaqJtn7"
      },
      "outputs": [],
      "source": [
        "# Code here"
      ]
    },
    {
      "cell_type": "markdown",
      "metadata": {
        "id": "zoFY0CMvJgd7"
      },
      "source": [
        "### Question: Verify the sum of each output. How to interpret the output?"
      ]
    },
    {
      "cell_type": "code",
      "execution_count": null,
      "metadata": {
        "id": "oSfMUonxJgd8"
      },
      "outputs": [],
      "source": [
        "# Code here"
      ]
    }
  ],
  "metadata": {
    "colab": {
      "provenance": [],
      "toc_visible": true,
      "gpuType": "T4",
      "include_colab_link": true
    },
    "kernelspec": {
      "display_name": "Python 3 (ipykernel)",
      "name": "python3",
      "language": "python"
    },
    "language_info": {
      "codemirror_mode": {
        "name": "ipython",
        "version": 3
      },
      "file_extension": ".py",
      "mimetype": "text/x-python",
      "name": "python",
      "nbconvert_exporter": "python",
      "pygments_lexer": "ipython3",
      "version": "3.10.9"
    },
    "accelerator": "GPU"
  },
  "nbformat": 4,
  "nbformat_minor": 0
}